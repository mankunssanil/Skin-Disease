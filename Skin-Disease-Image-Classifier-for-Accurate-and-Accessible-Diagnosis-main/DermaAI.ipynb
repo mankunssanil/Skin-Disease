{
  "cells": [
    {
      "cell_type": "markdown",
      "metadata": {
        "id": "rAkW4ss9i2V3"
      },
      "source": [
        "# **Derma AI: Skin Disease Image Classifier for Accurate and Accessible Diagnosis**"
      ]
    },
    {
      "cell_type": "markdown",
      "metadata": {
        "id": "oKGbjZ2ui2SV"
      },
      "source": [
        "# **Business Understanding**"
      ]
    },
    {
      "cell_type": "markdown",
      "metadata": {
        "id": "_J7wBw_2jRou"
      },
      "source": [
        "## **_Overview_**"
      ]
    },
    {
      "cell_type": "markdown",
      "metadata": {
        "id": "gVgSsrm5jRlM"
      },
      "source": [
        "A skin disease is a medical condition that affects the skin's appearance, texture, and function. Skin diseases can range from mild conditions, such as acne or a rash, to more serious conditions, such as psoriasis, eczema, or skin cancer. Skin diseases can affect people of all ages, races, and genders. They can be caused by a variety of factors, including genetics, exposure to irritants or allergens, infections, hormonal imbalances, and autoimmune disorders.Symptoms of skin diseases can vary widely depending on the specific condition, but may include redness, swelling, itching, dryness, scaling, blistering, or changes in skin color or texture.<br>\n",
        "Proper diagnosis and treatment of skin diseases is crucial for maintaining healthy skin and preventing complications. Early diagnosis is particularly important as it can prevent permanent scarring, disfigurement, and even life-threatening conditions such as skin cancer. Additionally, early diagnosis can help prevent the spread of infectious skin diseases such as bacterial or viral infections. The use of skin disease classification tools can aid in the early and accurate diagnosis of skin diseases, leading to improved outcomes and better overall health for patients.<br>\n",
        "This project aims to develop a skin disease image classifier that can identify skin diseases in images uploaded by users.  The classifier will be integrated into a website where users can upload photos of their skin diseases and receive an accurate diagnosis. The machine learning algorithm used in the  project will utilise a dataset of images scraped from the [DermNet NZ Image Library](https://dermnetnz.org/image-library) and [ISIC 2019 Challenge](https://challenge.isic-archive.com/data/#2019) websites."
      ]
    },
    {
      "cell_type": "markdown",
      "metadata": {
        "id": "l0wfvMNFjRic"
      },
      "source": [
        "## **_Business Problem_**"
      ]
    },
    {
      "cell_type": "markdown",
      "metadata": {
        "id": "XS7uVtIslr6u"
      },
      "source": [
        "Skin diseases are common and can have significant impacts on a person's health and quality of life. However, patients may struggle to access dermatological expertise due to various reasons, such as lack of dermatologists in some areas, long wait times for appointments, and high costs associated with consultations, while dermatologists face the challenge of accurately identifying and diagnosing skin diseases quickly. To address these challenges, we propose building an AI-powered skin disease classifier that improves diagnosis accuracy and accessibility for both dermatologists and patients.<br>\n",
        "By leveraging Neural Network techniques and the vast collection of clinical images of skin diseases available on  [DermNet NZ Image Library](https://dermnetnz.org/image-library) and [ISIC 2019 Challenge](https://challenge.isic-archive.com/data/#2019), we can build a skin disease classifier that accurately identifies and classifies skin diseases in a matter of seconds. This can aid dermatologists in their clinical decision-making process and reduce the time it takes to diagnose skin diseases, leading to better patient outcomes. Furthermore, patients can use the classifier to self-diagnose their skin diseases and seek medical attention if needed, thus increasing accessibility and affordability of dermatological care. Ultimately, our goal is to improve the diagnosis and management of skin diseases, leading to better patient outcomes and reduced healthcare costs."
      ]
    },
    {
      "cell_type": "markdown",
      "metadata": {
        "id": "d_ra4Zr0jRf1"
      },
      "source": [
        "## **_Objectives_**"
      ]
    },
    {
      "cell_type": "markdown",
      "metadata": {
        "id": "zV2Q3d9CjRdF"
      },
      "source": [
        "### **_General Objective_**"
      ]
    },
    {
      "cell_type": "markdown",
      "metadata": {
        "id": "QnFseRl7jRad"
      },
      "source": [
        "To develop a skin disease image classifier using neural networks to accurately diagnose and classify skin diseases.\n",
        "\n",
        "\n"
      ]
    },
    {
      "cell_type": "markdown",
      "metadata": {
        "id": "rpOvxWKKjRN-"
      },
      "source": [
        "### **_Specific Objectives_**"
      ]
    },
    {
      "cell_type": "markdown",
      "metadata": {
        "id": "KWR_lmjvjq9H"
      },
      "source": [
        "\n",
        "**_i._** To develop an advanced skin disease image classifier capable of accurately identifying the most common skin conditions.\n",
        "\n",
        "**_ii._** To integrate the image classifier into a user-friendly platform that provides patients with convenient and affordable access to dermatological care.\n",
        "\n",
        "**_iii._** To enhance the speed and accuracy of skin disease diagnosis for both dermatologists and patients, resulting in better treatment outcomes."
      ]
    },
    {
      "cell_type": "markdown",
      "metadata": {
        "id": "NXhHzcXvjq5g"
      },
      "source": [
        "To achieve the objectives of this study, the project will seek to answer the following questions:"
      ]
    },
    {
      "cell_type": "markdown",
      "metadata": {
        "id": "SbRvKEYejq2q"
      },
      "source": [
        "**_i._** What are the most common skin diseases and how can they be accurately diagnosed through image classification?\n",
        "\n",
        "**_ii._** How can the developed image classifier be integrated into a user-friendly website to provide accessible dermatological care?\n",
        "\n",
        "**_iii._** How can the developed image classifier aid dermatologists in their clinical decision-making process and reduce the time it takes to diagnose skin diseases?\n"
      ]
    },
    {
      "cell_type": "markdown",
      "metadata": {
        "id": "W4XGZYREj0OH"
      },
      "source": [
        "## **_Success Criteria_**"
      ]
    },
    {
      "cell_type": "markdown",
      "metadata": {
        "id": "BxEOFSS8j2jW"
      },
      "source": [
        "The model will be considered a success if it achieves a high accuracy in classifying skin diseases. Accuracy is a measure of how many predictions are correct out of the total number of predictions made by the classifier. A high accuracy score indicates that the classifier is good at avoiding misclassifications, which is crucial in the case of skin disease classification as misdiagnosis can lead to unnecessary treatments or interventions.\n",
        "\n",
        "In addition to accuracy, the F1 score will be considered as a secondary metric. A high F1 score indicates that the classifier has a good balance between precision and recall, which is important in the case of skin disease classification as it ensures that the classifier is both accurate and comprehensive in its predictions."
      ]
    },
    {
      "cell_type": "markdown",
      "metadata": {
        "id": "VRvzA01Qj5J1"
      },
      "source": [
        "# **Data Understanding**"
      ]
    },
    {
      "cell_type": "markdown",
      "metadata": {
        "id": "YYHILl27j721"
      },
      "source": [
        "The data that will be used in this project will be scraped from [DermNet NZ Image Library](https://dermnetnz.org/image-library) and [ISIC 2019 Challenge](https://challenge.isic-archive.com/data/#2019) websites."
      ]
    },
    {
      "cell_type": "markdown",
      "metadata": {
        "id": "UUmQFbg_i2MN"
      },
      "source": [
        "# **Data Scrapping**"
      ]
    },
    {
      "cell_type": "code",
      "execution_count": null,
      "metadata": {
        "id": "Y_eJE7xN4ZBB",
        "outputId": "d5de8d68-7846-4928-eacb-19caecee5c26"
      },
      "outputs": [
        {
          "name": "stdout",
          "output_type": "stream",
          "text": [
            "Requirement already satisfied: selenium in c:\\users\\admin\\anaconda3\\lib\\site-packages (4.5.0)\n",
            "Requirement already satisfied: certifi>=2021.10.8 in c:\\users\\admin\\anaconda3\\lib\\site-packages (from selenium) (2021.10.8)\n",
            "Requirement already satisfied: trio~=0.17 in c:\\users\\admin\\anaconda3\\lib\\site-packages (from selenium) (0.22.0)\n",
            "Requirement already satisfied: urllib3[socks]~=1.26 in c:\\users\\admin\\anaconda3\\lib\\site-packages (from selenium) (1.26.9)\n",
            "Requirement already satisfied: trio-websocket~=0.9 in c:\\users\\admin\\anaconda3\\lib\\site-packages (from selenium) (0.9.2)\n",
            "Requirement already satisfied: exceptiongroup>=1.0.0rc9 in c:\\users\\admin\\anaconda3\\lib\\site-packages (from trio~=0.17->selenium) (1.0.0rc9)\n",
            "Requirement already satisfied: async-generator>=1.9 in c:\\users\\admin\\anaconda3\\lib\\site-packages (from trio~=0.17->selenium) (1.10)\n",
            "Requirement already satisfied: sniffio in c:\\users\\admin\\anaconda3\\lib\\site-packages (from trio~=0.17->selenium) (1.2.0)\n",
            "Requirement already satisfied: attrs>=19.2.0 in c:\\users\\admin\\anaconda3\\lib\\site-packages (from trio~=0.17->selenium) (21.4.0)\n",
            "Requirement already satisfied: cffi>=1.14 in c:\\users\\admin\\anaconda3\\lib\\site-packages (from trio~=0.17->selenium) (1.15.0)\n",
            "Requirement already satisfied: idna in c:\\users\\admin\\anaconda3\\lib\\site-packages (from trio~=0.17->selenium) (2.10)\n",
            "Requirement already satisfied: sortedcontainers in c:\\users\\admin\\anaconda3\\lib\\site-packages (from trio~=0.17->selenium) (2.4.0)\n",
            "Requirement already satisfied: outcome in c:\\users\\admin\\anaconda3\\lib\\site-packages (from trio~=0.17->selenium) (1.2.0)\n",
            "Requirement already satisfied: wsproto>=0.14 in c:\\users\\admin\\anaconda3\\lib\\site-packages (from trio-websocket~=0.9->selenium) (1.2.0)\n",
            "Requirement already satisfied: PySocks!=1.5.7,<2.0,>=1.5.6 in c:\\users\\admin\\anaconda3\\lib\\site-packages (from urllib3[socks]~=1.26->selenium) (1.7.1)\n",
            "Requirement already satisfied: pycparser in c:\\users\\admin\\anaconda3\\lib\\site-packages (from cffi>=1.14->trio~=0.17->selenium) (2.21)\n",
            "Requirement already satisfied: h11<1,>=0.9.0 in c:\\users\\admin\\anaconda3\\lib\\site-packages (from wsproto>=0.14->trio-websocket~=0.9->selenium) (0.9.0)\n"
          ]
        },
        {
          "name": "stderr",
          "output_type": "stream",
          "text": [
            "\n",
            "[notice] A new release of pip is available: 23.0.1 -> 23.1.2\n",
            "[notice] To update, run: python.exe -m pip install --upgrade pip\n"
          ]
        },
        {
          "name": "stdout",
          "output_type": "stream",
          "text": [
            "Requirement already satisfied: webdriver_manager in c:\\users\\admin\\anaconda3\\lib\\site-packages (3.8.5)\n",
            "Requirement already satisfied: python-dotenv in c:\\users\\admin\\anaconda3\\lib\\site-packages (from webdriver_manager) (0.21.0)\n",
            "Requirement already satisfied: tqdm in c:\\users\\admin\\anaconda3\\lib\\site-packages (from webdriver_manager) (4.64.0)\n",
            "Requirement already satisfied: requests in c:\\users\\admin\\anaconda3\\lib\\site-packages (from webdriver_manager) (2.27.1)\n",
            "Requirement already satisfied: packaging in c:\\users\\admin\\anaconda3\\lib\\site-packages (from webdriver_manager) (21.3)\n",
            "Requirement already satisfied: pyparsing!=3.0.5,>=2.0.2 in c:\\users\\admin\\anaconda3\\lib\\site-packages (from packaging->webdriver_manager) (3.0.4)\n",
            "Requirement already satisfied: charset-normalizer~=2.0.0 in c:\\users\\admin\\anaconda3\\lib\\site-packages (from requests->webdriver_manager) (2.0.4)\n",
            "Requirement already satisfied: idna<4,>=2.5 in c:\\users\\admin\\anaconda3\\lib\\site-packages (from requests->webdriver_manager) (2.10)\n",
            "Requirement already satisfied: urllib3<1.27,>=1.21.1 in c:\\users\\admin\\anaconda3\\lib\\site-packages (from requests->webdriver_manager) (1.26.9)\n",
            "Requirement already satisfied: certifi>=2017.4.17 in c:\\users\\admin\\anaconda3\\lib\\site-packages (from requests->webdriver_manager) (2021.10.8)\n",
            "Requirement already satisfied: colorama in c:\\users\\admin\\anaconda3\\lib\\site-packages (from tqdm->webdriver_manager) (0.4.6)\n"
          ]
        },
        {
          "name": "stderr",
          "output_type": "stream",
          "text": [
            "\n",
            "[notice] A new release of pip is available: 23.0.1 -> 23.1.2\n",
            "[notice] To update, run: python.exe -m pip install --upgrade pip\n"
          ]
        }
      ],
      "source": [
        "# install required libraries\n",
        "!pip install selenium\n",
        "!pip install webdriver_manager"
      ]
    },
    {
      "cell_type": "markdown",
      "metadata": {
        "id": "b67kW0cihn1F"
      },
      "source": [
        "**import required libraries**"
      ]
    },
    {
      "cell_type": "code",
      "execution_count": null,
      "metadata": {
        "id": "EOh6sB_Nlwba"
      },
      "outputs": [],
      "source": [
        "# import required libraries\n",
        "import selenium\n",
        "from selenium import webdriver\n",
        "from selenium.webdriver.chrome.service import Service\n",
        "from webdriver_manager.chrome import ChromeDriverManager\n",
        "from selenium.webdriver.support.ui import WebDriverWait\n",
        "import pandas as pd\n",
        "import re\n",
        "import time\n",
        "from IPython.core.display import HTML\n",
        "import webbrowser\n",
        "import requests as rq\n",
        "import os\n",
        "import pathlib\n",
        "import pandas as pd"
      ]
    },
    {
      "cell_type": "markdown",
      "metadata": {
        "id": "ViYdImV24npi"
      },
      "source": [
        "**Scraping Dermnet website**\n"
      ]
    },
    {
      "cell_type": "code",
      "execution_count": null,
      "metadata": {
        "id": "vWwDtCwA4pm6",
        "outputId": "06f6be6f-033f-43f4-b6c1-dcc27e35de39"
      },
      "outputs": [
        {
          "name": "stderr",
          "output_type": "stream",
          "text": [
            "[WDM] - Downloading: 100%|██████████| 6.80M/6.80M [00:02<00:00, 3.24MB/s]\n"
          ]
        }
      ],
      "source": [
        "# Creating an instance of the Chrome web browser\n",
        "driver = webdriver.Chrome(service=Service(ChromeDriverManager().install()))\n",
        "\n",
        "# URL to the dermnet website\n",
        "url = \"https://dermnetnz.org/image-library\"\n",
        "\n",
        "# Navigating to the specified url in chrome\n",
        "driver.get(url)\n",
        "\n",
        "# maximizing the browser window so that it takes up the entire screen\n",
        "driver.maximize_window()"
      ]
    },
    {
      "cell_type": "code",
      "execution_count": null,
      "metadata": {
        "id": "ux14Jruj5Clq",
        "outputId": "b0fea53c-a612-423c-dc2b-713c55c39966"
      },
      "outputs": [
        {
          "name": "stdout",
          "output_type": "stream",
          "text": [
            "The first 10 skin condition names: \n",
            " ['Acne affecting the back images', 'Acne affecting the face images', 'Acne and other follicular disorder images', 'Acquired dermal macular hyperpigmentation images', 'Acral lentiginous melanoma images', 'Actinic keratosis affecting the face images', 'Actinic keratosis affecting the hand images', 'Actinic keratosis affecting the legs and feet images', 'Actinic keratosis affecting the scalp images', 'Actinic keratosis dermoscopy images']\n",
            "\n",
            "The first 10 links to skin condition image links:\n",
            "['https://dermnetnz.org/topics/acne-affecting-the-back-images/?stage=Live', 'https://dermnetnz.org/topics/acne-face-images/?stage=Live', 'https://dermnetnz.org/image-catalogue/acne-and-other-follicular-disorder-images/?stage=Live', 'https://dermnetnz.org/topics/acquired-dermal-macular-hyperpigmentation-images/?stage=Live', 'https://dermnetnz.org/topics/acral-lentiginous-melanoma-images/?stage=Live', 'https://dermnetnz.org/topics/actinic-keratosis-face-images/?stage=Live', 'https://dermnetnz.org/topics/actinic-keratosis-affecting-the-hand-images/?stage=Live', 'https://dermnetnz.org/topics/actinic-keratosis-leg-and-foot-images/?stage=Live', 'https://dermnetnz.org/topics/actinic-keratosis-scalp-images/?stage=Live', 'https://dermnetnz.org/topics/actinic-keratosis-dermoscopy-images/?stage=Live']\n"
          ]
        }
      ],
      "source": [
        "# Finding all the skin_disorders listed on the main page\n",
        "skin_disorder_tag_main_page = driver.find_elements(\"xpath\", '//a[@class=\"imageList__group__item\"]')\n",
        "\n",
        "# For loop to extract the skin disorder names and the link to the skin_disorders\n",
        "disorder_names = []\n",
        "link_list= []\n",
        "for tag in skin_disorder_tag_main_page:\n",
        "    disorder_names.append(tag.text)\n",
        "    link_list.append(tag.get_attribute(\"href\"))\n",
        "\n",
        "# Previewing the lists created:\n",
        "print(f'The first 10 skin condition names: \\n {disorder_names[:10]}\\n')\n",
        "print(f'The first 10 links to skin condition image links:\\n{link_list[:10]}')"
      ]
    },
    {
      "cell_type": "code",
      "execution_count": null,
      "metadata": {
        "id": "6txoDJVO5HIO",
        "outputId": "fd3f953c-f118-4637-824c-7a7d1e8da7c5"
      },
      "outputs": [
        {
          "name": "stdout",
          "output_type": "stream",
          "text": [
            "The are 294 skin conditions listed in the DermNet website.\n"
          ]
        }
      ],
      "source": [
        "# The number of skin_disorders listed in the website\n",
        "print(f'The are {len(disorder_names)} skin conditions listed in the DermNet website.')"
      ]
    },
    {
      "cell_type": "code",
      "execution_count": null,
      "metadata": {
        "id": "lt_tf1ZW5JFX",
        "outputId": "532571d5-d279-4acf-d51f-67d55e72ceba"
      },
      "outputs": [
        {
          "data": {
            "text/html": [
              "<div>\n",
              "<style scoped>\n",
              "    .dataframe tbody tr th:only-of-type {\n",
              "        vertical-align: middle;\n",
              "    }\n",
              "\n",
              "    .dataframe tbody tr th {\n",
              "        vertical-align: top;\n",
              "    }\n",
              "\n",
              "    .dataframe thead th {\n",
              "        text-align: right;\n",
              "    }\n",
              "</style>\n",
              "<table border=\"1\" class=\"dataframe\">\n",
              "  <thead>\n",
              "    <tr style=\"text-align: right;\">\n",
              "      <th></th>\n",
              "      <th>skin_disorder_name</th>\n",
              "      <th>link</th>\n",
              "    </tr>\n",
              "  </thead>\n",
              "  <tbody>\n",
              "    <tr>\n",
              "      <th>0</th>\n",
              "      <td>Acne affecting the back images</td>\n",
              "      <td>https://dermnetnz.org/topics/acne-affecting-th...</td>\n",
              "    </tr>\n",
              "    <tr>\n",
              "      <th>1</th>\n",
              "      <td>Acne affecting the face images</td>\n",
              "      <td>https://dermnetnz.org/topics/acne-face-images/...</td>\n",
              "    </tr>\n",
              "    <tr>\n",
              "      <th>2</th>\n",
              "      <td>Acne and other follicular disorder images</td>\n",
              "      <td>https://dermnetnz.org/image-catalogue/acne-and...</td>\n",
              "    </tr>\n",
              "    <tr>\n",
              "      <th>3</th>\n",
              "      <td>Acquired dermal macular hyperpigmentation images</td>\n",
              "      <td>https://dermnetnz.org/topics/acquired-dermal-m...</td>\n",
              "    </tr>\n",
              "    <tr>\n",
              "      <th>4</th>\n",
              "      <td>Acral lentiginous melanoma images</td>\n",
              "      <td>https://dermnetnz.org/topics/acral-lentiginous...</td>\n",
              "    </tr>\n",
              "  </tbody>\n",
              "</table>\n",
              "</div>"
            ],
            "text/plain": [
              "                                 skin_disorder_name  \\\n",
              "0                    Acne affecting the back images   \n",
              "1                    Acne affecting the face images   \n",
              "2         Acne and other follicular disorder images   \n",
              "3  Acquired dermal macular hyperpigmentation images   \n",
              "4                 Acral lentiginous melanoma images   \n",
              "\n",
              "                                                link  \n",
              "0  https://dermnetnz.org/topics/acne-affecting-th...  \n",
              "1  https://dermnetnz.org/topics/acne-face-images/...  \n",
              "2  https://dermnetnz.org/image-catalogue/acne-and...  \n",
              "3  https://dermnetnz.org/topics/acquired-dermal-m...  \n",
              "4  https://dermnetnz.org/topics/acral-lentiginous...  "
            ]
          },
          "execution_count": 6,
          "metadata": {},
          "output_type": "execute_result"
        }
      ],
      "source": [
        "# Creating a dataframe with two columns, the skin_disorder names and the links to the images of the skin disorders\n",
        "name_link_df = pd.DataFrame({'skin_disorder_name': disorder_names, 'link': link_list})\n",
        "\n",
        "# Saving the dataframe as a csv file\n",
        "name_link_df.to_csv('Data/name_link.csv', index=False)\n",
        "\n",
        "# Previewing the first five rows of the dataframe\n",
        "name_link_df.head()"
      ]
    },
    {
      "cell_type": "code",
      "execution_count": null,
      "metadata": {
        "id": "lDXixgoY5LZb"
      },
      "outputs": [],
      "source": [
        "# initialize the webdriver\n",
        "driver = webdriver.Chrome(service=Service(ChromeDriverManager().install()))\n",
        "\n",
        "# create an empty list to store the dataframes for each link/disease pair\n",
        "dfs = []\n",
        "# loop through each link/disease pair\n",
        "for link, disease_name in zip(link_list, disorder_names):\n",
        "    # create an empty list to store the image URLs\n",
        "    image_disease = []\n",
        "\n",
        "    try:\n",
        "        # navigate to the link\n",
        "        driver.get(link)\n",
        "\n",
        "        # maximize the window to ensure all elements are visible\n",
        "        driver.maximize_window()\n",
        "\n",
        "        # find all the elements on the page with the class \"imageLinkBlock__item__image\"\n",
        "        skin_image_disorder = driver.find_elements(\"xpath\", '//div[@class=\"imageLinkBlock__item__image\"]')\n",
        "\n",
        "        # loop through each element and find all the images within it\n",
        "        for image in skin_image_disorder:\n",
        "            list_ = image.find_elements(\"tag name\", \"img\")\n",
        "            for lists in list_:\n",
        "                # add each image URL to the image_disease list\n",
        "                image_disease.append(lists.get_attribute(\"src\"))\n",
        "\n",
        "        # create a list of dictionaries, where each dictionary represents a row in the DataFrame\n",
        "        # each dictionary contains an image URL and the disease name\n",
        "        rows = [{'skin_disorder_name': disease_name, 'images': url} for url in image_disease]\n",
        "\n",
        "        # create the DataFrame using the list of dictionaries\n",
        "        df = pd.DataFrame(rows, columns=['skin_disorder_name', 'images'])\n",
        "\n",
        "        # add the dataframe to the list of dataframes\n",
        "        dfs.append(df)\n",
        "\n",
        "    except Exception as e:\n",
        "        # if an error occurs, print the error message and move to the next link/disease pair\n",
        "        print(f\"Error occurred for {disease_name}: {str(e)}\")\n",
        "        continue\n",
        "\n",
        "# concatenate all the dataframes into a single dataframe\n",
        "result_df = pd.concat(dfs)\n",
        "\n",
        "# Turning all the skin_disorder_names to lower case:\n",
        "result_df['skin_disorder_name'] = result_df['skin_disorder_name'].map(lambda x: x.lower())\n",
        "\n",
        "# save the result dataframe to a CSV file named \"data.csv\"\n",
        "result_df.to_csv('Data/data1-294.csv', index=False)"
      ]
    },
    {
      "cell_type": "code",
      "execution_count": null,
      "metadata": {
        "id": "eIHxpf9D5NzQ",
        "outputId": "f255df2b-8438-4eb2-d7ae-541d736ab71d"
      },
      "outputs": [
        {
          "data": {
            "text/html": [
              "<div>\n",
              "<style scoped>\n",
              "    .dataframe tbody tr th:only-of-type {\n",
              "        vertical-align: middle;\n",
              "    }\n",
              "\n",
              "    .dataframe tbody tr th {\n",
              "        vertical-align: top;\n",
              "    }\n",
              "\n",
              "    .dataframe thead th {\n",
              "        text-align: right;\n",
              "    }\n",
              "</style>\n",
              "<table border=\"1\" class=\"dataframe\">\n",
              "  <thead>\n",
              "    <tr style=\"text-align: right;\">\n",
              "      <th></th>\n",
              "      <th>skin_disorder_name</th>\n",
              "      <th>images</th>\n",
              "    </tr>\n",
              "  </thead>\n",
              "  <tbody>\n",
              "    <tr>\n",
              "      <th>0</th>\n",
              "      <td>acne affecting the back images</td>\n",
              "      <td>https://dermnetnz.org/assets/Uploads/acne/acne...</td>\n",
              "    </tr>\n",
              "    <tr>\n",
              "      <th>1</th>\n",
              "      <td>acne affecting the back images</td>\n",
              "      <td>https://dermnetnz.org/assets/Uploads/acne/acne...</td>\n",
              "    </tr>\n",
              "    <tr>\n",
              "      <th>2</th>\n",
              "      <td>acne affecting the back images</td>\n",
              "      <td>https://dermnetnz.org/assets/Uploads/acne/acne...</td>\n",
              "    </tr>\n",
              "  </tbody>\n",
              "</table>\n",
              "</div>"
            ],
            "text/plain": [
              "               skin_disorder_name  \\\n",
              "0  acne affecting the back images   \n",
              "1  acne affecting the back images   \n",
              "2  acne affecting the back images   \n",
              "\n",
              "                                              images  \n",
              "0  https://dermnetnz.org/assets/Uploads/acne/acne...  \n",
              "1  https://dermnetnz.org/assets/Uploads/acne/acne...  \n",
              "2  https://dermnetnz.org/assets/Uploads/acne/acne...  "
            ]
          },
          "execution_count": 8,
          "metadata": {},
          "output_type": "execute_result"
        }
      ],
      "source": [
        "# DataFrame with all the 294 images:\n",
        "image_df = pd.read_csv('Data/data1-294.csv')\n",
        "\n",
        "# Previewing the first 3 rows of the dataframe\n",
        "image_df.head(3)"
      ]
    },
    {
      "cell_type": "code",
      "execution_count": null,
      "metadata": {
        "id": "VU71YUp35Pim"
      },
      "outputs": [],
      "source": [
        "# Function takes in the image url and returns an html <img> tag that displays the image\n",
        "def to_img_tag(path):\n",
        "    return '<img src=\"'+ path + '\" width=\"50\" >'"
      ]
    },
    {
      "cell_type": "code",
      "execution_count": null,
      "metadata": {
        "id": "ec_MlLrf5RiN"
      },
      "outputs": [],
      "source": [
        "# Save the HTML table to a file\n",
        "with open('Data/image_table.html', 'w') as f:\n",
        "    f.write(image_df.to_html(escape=False,formatters=dict(images=to_img_tag)))"
      ]
    },
    {
      "cell_type": "code",
      "execution_count": null,
      "metadata": {
        "id": "_ph-tlaH5TvZ",
        "outputId": "8c4beb71-bd38-4abb-e91e-78aa39330e42"
      },
      "outputs": [
        {
          "data": {
            "text/plain": [
              "True"
            ]
          },
          "execution_count": 21,
          "metadata": {},
          "output_type": "execute_result"
        }
      ],
      "source": [
        "# Open the HTML file in the default web browser\n",
        "webbrowser.open('Data/image_table.html')"
      ]
    },
    {
      "cell_type": "code",
      "execution_count": null,
      "metadata": {
        "id": "Aju2bB1j5WGQ",
        "outputId": "df759dd5-f0cd-45ee-f0b8-b971b839f5ac"
      },
      "outputs": [
        {
          "name": "stdout",
          "output_type": "stream",
          "text": [
            "Successfully downloaded: acne affecting the back images0.jpg\n",
            "Successfully downloaded: acne affecting the back images1.jpg\n",
            "Successfully downloaded: acne affecting the back images2.jpg\n",
            "Successfully downloaded: acne affecting the back images3.jpg\n",
            "Successfully downloaded: acne affecting the back images4.jpg\n",
            "Successfully downloaded: acne affecting the back images5.jpg\n",
            "Successfully downloaded: acne affecting the back images6.jpg\n",
            "Successfully downloaded: acne affecting the back images7.jpg\n",
            "Successfully downloaded: acne affecting the back images8.jpg\n",
            "Successfully downloaded: acne affecting the back images9.jpg\n",
            "Successfully downloaded: acne affecting the back images10.jpg\n",
            "Successfully downloaded: acne affecting the back images11.jpg\n",
            "Successfully downloaded: acne affecting the back images12.jpg\n",
            "Successfully downloaded: acne affecting the back images13.jpg\n",
            "Successfully downloaded: acne affecting the back images14.jpg\n",
            "Successfully downloaded: acne affecting the back images15.jpg\n",
            "Successfully downloaded: acne affecting the back images16.jpg\n",
            "Successfully downloaded: acne affecting the back images17.jpg\n",
            "Successfully downloaded: acne affecting the back images18.jpg\n",
            "Successfully downloaded: acne affecting the back images19.jpg\n",
            "Successfully downloaded: acne affecting the back images20.jpg\n",
            "Successfully downloaded: acne affecting the back images21.jpg\n",
            "Successfully downloaded: acne affecting the back images22.jpg\n",
            "Successfully downloaded: acne affecting the back images23.jpg\n",
            "Successfully downloaded: acne affecting the back images24.jpg\n",
            "Successfully downloaded: acne affecting the back images25.jpg\n",
            "Successfully downloaded: acne affecting the back images26.jpg\n",
            "Successfully downloaded: acne affecting the back images27.jpg\n",
            "Successfully downloaded: acne affecting the back images28.jpg\n",
            "Successfully downloaded: acne affecting the back images29.jpg\n",
            "Successfully downloaded: acne affecting the back images30.jpg\n",
            "Successfully downloaded: acne affecting the back images31.jpg\n",
            "Successfully downloaded: acne affecting the back images32.jpg\n",
            "Successfully downloaded: acne affecting the back images33.jpg\n",
            "Successfully downloaded: acne affecting the back images34.jpg\n",
            "Successfully downloaded: acne affecting the back images35.jpg\n",
            "Successfully downloaded: acne affecting the back images36.jpg\n",
            "Successfully downloaded: acne affecting the back images37.jpg\n",
            "Successfully downloaded: acne affecting the back images38.jpg\n",
            "Successfully downloaded: acne affecting the back images39.jpg\n",
            "Successfully downloaded: acne affecting the back images40.jpg\n",
            "Successfully downloaded: acne and other follicular disorder images41.jpg\n",
            "Successfully downloaded: acne and other follicular disorder images42.jpg\n",
            "Successfully downloaded: acne and other follicular disorder images43.jpg\n",
            "Successfully downloaded: acne and other follicular disorder images44.jpg\n",
            "Successfully downloaded: acne and other follicular disorder images45.jpg\n",
            "Successfully downloaded: acne and other follicular disorder images46.jpg\n",
            "Successfully downloaded: acne and other follicular disorder images47.jpg\n",
            "Successfully downloaded: acne and other follicular disorder images48.jpg\n",
            "Successfully downloaded: acne and other follicular disorder images49.jpg\n",
            "Successfully downloaded: acne and other follicular disorder images50.jpg\n",
            "Successfully downloaded: acne and other follicular disorder images51.jpg\n",
            "Successfully downloaded: acne and other follicular disorder images52.jpg\n",
            "Successfully downloaded: acne and other follicular disorder images53.jpg\n",
            "Successfully downloaded: acne and other follicular disorder images54.jpg\n",
            "Successfully downloaded: acne and other follicular disorder images55.jpg\n",
            "Successfully downloaded: acne and other follicular disorder images56.jpg\n",
            "Successfully downloaded: acne and other follicular disorder images57.jpg\n",
            "Successfully downloaded: acne and other follicular disorder images58.jpg\n",
            "Successfully downloaded: acne and other follicular disorder images59.jpg\n",
            "Successfully downloaded: acne and other follicular disorder images60.jpg\n",
            "Successfully downloaded: acne and other follicular disorder images61.jpg\n",
            "Successfully downloaded: acne and other follicular disorder images62.jpg\n",
            "Successfully downloaded: acne and other follicular disorder images63.jpg\n",
            "Successfully downloaded: acne and other follicular disorder images64.jpg\n",
            "Successfully downloaded: acne and other follicular disorder images65.jpg\n",
            "Successfully downloaded: acne and other follicular disorder images66.jpg\n",
            "Successfully downloaded: acne and other follicular disorder images67.jpg\n",
            "Successfully downloaded: acne and other follicular disorder images68.jpg\n",
            "Successfully downloaded: acne and other follicular disorder images69.jpg\n",
            "Successfully downloaded: acne and other follicular disorder images70.jpg\n",
            "Successfully downloaded: acne and other follicular disorder images71.jpg\n",
            "Successfully downloaded: acne and other follicular disorder images72.jpg\n",
            "Successfully downloaded: acne and other follicular disorder images73.jpg\n",
            "Successfully downloaded: acne and other follicular disorder images74.jpg\n",
            "Successfully downloaded: acne and other follicular disorder images75.jpg\n",
            "Successfully downloaded: acne and other follicular disorder images76.jpg\n",
            "Successfully downloaded: acne and other follicular disorder images77.jpg\n",
            "Successfully downloaded: acne and other follicular disorder images78.jpg\n",
            "Successfully downloaded: acne and other follicular disorder images79.jpg\n",
            "Successfully downloaded: acne and other follicular disorder images80.jpg\n",
            "Successfully downloaded: acne and other follicular disorder images81.jpg\n",
            "Successfully downloaded: acne and other follicular disorder images82.jpg\n",
            "Successfully downloaded: acne and other follicular disorder images83.jpg\n",
            "Successfully downloaded: acne and other follicular disorder images84.jpg\n",
            "Successfully downloaded: acne and other follicular disorder images85.jpg\n",
            "Successfully downloaded: acne and other follicular disorder images86.jpg\n",
            "Successfully downloaded: acne and other follicular disorder images87.jpg\n",
            "Successfully downloaded: acne and other follicular disorder images88.jpg\n",
            "Successfully downloaded: acne and other follicular disorder images89.jpg\n",
            "Successfully downloaded: acne and other follicular disorder images90.jpg\n",
            "Successfully downloaded: acne and other follicular disorder images91.jpg\n",
            "Successfully downloaded: acne and other follicular disorder images92.jpg\n",
            "Successfully downloaded: acne and other follicular disorder images93.jpg\n",
            "Successfully downloaded: acne and other follicular disorder images94.jpg\n",
            "Successfully downloaded: acne and other follicular disorder images95.jpg\n",
            "Successfully downloaded: acne and other follicular disorder images96.jpg\n",
            "Successfully downloaded: acne and other follicular disorder images97.jpg\n",
            "Successfully downloaded: acne and other follicular disorder images98.jpg\n",
            "Successfully downloaded: acne and other follicular disorder images99.jpg\n",
            "Successfully downloaded: acne and other follicular disorder images100.jpg\n",
            "Successfully downloaded: acne and other follicular disorder images101.jpg\n",
            "Successfully downloaded: acne and other follicular disorder images102.jpg\n",
            "Successfully downloaded: acne and other follicular disorder images103.jpg\n",
            "Successfully downloaded: acne and other follicular disorder images104.jpg\n",
            "Successfully downloaded: acne and other follicular disorder images105.jpg\n",
            "Successfully downloaded: acne and other follicular disorder images106.jpg\n",
            "Successfully downloaded: acne and other follicular disorder images107.jpg\n",
            "Successfully downloaded: acne and other follicular disorder images108.jpg\n",
            "Successfully downloaded: acne and other follicular disorder images109.jpg\n",
            "Successfully downloaded: acne and other follicular disorder images110.jpg\n",
            "Successfully downloaded: acne and other follicular disorder images111.jpg\n",
            "Successfully downloaded: acne and other follicular disorder images112.jpg\n",
            "Successfully downloaded: acne and other follicular disorder images113.jpg\n",
            "Successfully downloaded: acne and other follicular disorder images114.jpg\n",
            "Successfully downloaded: acne and other follicular disorder images115.jpg\n",
            "Successfully downloaded: acne and other follicular disorder images116.jpg\n",
            "Successfully downloaded: acne and other follicular disorder images117.jpg\n",
            "Successfully downloaded: acne and other follicular disorder images118.jpg\n",
            "Successfully downloaded: acne and other follicular disorder images119.jpg\n",
            "Successfully downloaded: acne and other follicular disorder images120.jpg\n",
            "Successfully downloaded: acne and other follicular disorder images121.jpg\n",
            "Successfully downloaded: acne and other follicular disorder images122.jpg\n",
            "Successfully downloaded: acne and other follicular disorder images123.jpg\n",
            "Successfully downloaded: acne and other follicular disorder images124.jpg\n",
            "Successfully downloaded: acne and other follicular disorder images125.jpg\n",
            "Successfully downloaded: acne and other follicular disorder images126.jpg\n",
            "Successfully downloaded: acne and other follicular disorder images127.jpg\n",
            "Successfully downloaded: acne and other follicular disorder images128.jpg\n",
            "Successfully downloaded: acne and other follicular disorder images129.jpg\n",
            "Successfully downloaded: acne and other follicular disorder images130.jpg\n",
            "Successfully downloaded: acne and other follicular disorder images131.jpg\n",
            "Successfully downloaded: acne and other follicular disorder images132.jpg\n",
            "Successfully downloaded: acne and other follicular disorder images133.jpg\n",
            "Successfully downloaded: acne and other follicular disorder images134.jpg\n",
            "Successfully downloaded: acne and other follicular disorder images135.jpg\n",
            "Successfully downloaded: acne and other follicular disorder images136.jpg\n",
            "Successfully downloaded: acne and other follicular disorder images137.jpg\n",
            "Successfully downloaded: acne and other follicular disorder images138.jpg\n",
            "Successfully downloaded: acne and other follicular disorder images139.jpg\n",
            "Successfully downloaded: acne and other follicular disorder images140.jpg\n",
            "Successfully downloaded: acne and other follicular disorder images141.jpg\n",
            "Successfully downloaded: acne and other follicular disorder images142.jpg\n",
            "Successfully downloaded: acne and other follicular disorder images143.jpg\n",
            "Successfully downloaded: acne and other follicular disorder images144.jpg\n",
            "Successfully downloaded: acne and other follicular disorder images145.jpg\n",
            "Successfully downloaded: acne and other follicular disorder images146.jpg\n",
            "Successfully downloaded: acne and other follicular disorder images147.jpg\n",
            "Successfully downloaded: acne and other follicular disorder images148.jpg\n",
            "Successfully downloaded: acne and other follicular disorder images149.jpg\n",
            "Successfully downloaded: acne and other follicular disorder images150.jpg\n",
            "Successfully downloaded: acne and other follicular disorder images151.jpg\n",
            "Successfully downloaded: acne and other follicular disorder images152.jpg\n",
            "Successfully downloaded: acne and other follicular disorder images153.jpg\n",
            "Successfully downloaded: acne and other follicular disorder images154.jpg\n",
            "Successfully downloaded: acne and other follicular disorder images155.jpg\n",
            "Successfully downloaded: acne and other follicular disorder images156.jpg\n",
            "Successfully downloaded: acne and other follicular disorder images157.jpg\n",
            "Successfully downloaded: acne and other follicular disorder images158.jpg\n",
            "Successfully downloaded: acne and other follicular disorder images159.jpg\n",
            "Successfully downloaded: acne and other follicular disorder images160.jpg\n",
            "Successfully downloaded: acne and other follicular disorder images161.jpg\n",
            "Successfully downloaded: acne and other follicular disorder images162.jpg\n",
            "Successfully downloaded: acne and other follicular disorder images163.jpg\n",
            "Successfully downloaded: acne and other follicular disorder images164.jpg\n",
            "Successfully downloaded: acne and other follicular disorder images165.jpg\n",
            "Successfully downloaded: acne and other follicular disorder images166.jpg\n",
            "Successfully downloaded: acne and other follicular disorder images167.jpg\n",
            "Successfully downloaded: acne and other follicular disorder images168.jpg\n",
            "Successfully downloaded: acne and other follicular disorder images169.jpg\n",
            "Successfully downloaded: acne and other follicular disorder images170.jpg\n",
            "Successfully downloaded: acne and other follicular disorder images171.jpg\n",
            "Successfully downloaded: acne and other follicular disorder images172.jpg\n",
            "Successfully downloaded: acne and other follicular disorder images173.jpg\n",
            "Successfully downloaded: acne and other follicular disorder images174.jpg\n",
            "Successfully downloaded: acne and other follicular disorder images175.jpg\n",
            "Successfully downloaded: acne and other follicular disorder images176.jpg\n",
            "Successfully downloaded: acne and other follicular disorder images177.jpg\n",
            "Successfully downloaded: acne and other follicular disorder images178.jpg\n",
            "Successfully downloaded: acne and other follicular disorder images179.jpg\n",
            "Successfully downloaded: acne and other follicular disorder images180.jpg\n",
            "Successfully downloaded: acne and other follicular disorder images181.jpg\n",
            "Successfully downloaded: acne and other follicular disorder images182.jpg\n",
            "Successfully downloaded: acne and other follicular disorder images183.jpg\n",
            "Successfully downloaded: acne and other follicular disorder images184.jpg\n",
            "Successfully downloaded: acne and other follicular disorder images185.jpg\n",
            "Successfully downloaded: acne and other follicular disorder images186.jpg\n",
            "Successfully downloaded: acne and other follicular disorder images187.jpg\n",
            "Successfully downloaded: acne and other follicular disorder images188.jpg\n",
            "Successfully downloaded: acne and other follicular disorder images189.jpg\n",
            "Successfully downloaded: acne and other follicular disorder images190.jpg\n",
            "Successfully downloaded: acne and other follicular disorder images191.jpg\n",
            "Successfully downloaded: acne and other follicular disorder images192.jpg\n",
            "Successfully downloaded: acne and other follicular disorder images193.jpg\n"
          ]
        }
      ],
      "source": [
        "# Downloading and Saving the images into a folder:\n",
        "def save_image(folder: str, name: str, url: str, index:int):\n",
        "    # Get the data from the url\n",
        "    image_source = rq.get(url)\n",
        "\n",
        "    # If there's a suffix, we will grab that\n",
        "    suffix = pathlib.Path(url).suffix\n",
        "\n",
        "    # Check if the suffix is one of the following\n",
        "    if suffix not in ['.jpg', '.jpeg', '.png', '.gif']:\n",
        "        # Default to .png\n",
        "        output = name + str(index) + '.png'\n",
        "\n",
        "    else:\n",
        "        output = name + str(index) + suffix\n",
        "\n",
        "    # Check first if folder exists, else create a new one\n",
        "    if not os.path.exists(folder):\n",
        "        os.makedirs(folder)\n",
        "\n",
        "    # Create our output in the specified folder (wb = write bytes)\n",
        "    with open(f'{folder}{output}', 'wb') as file:\n",
        "        file.write(image_source.content)\n",
        "        print(f'Successfully downloaded: {output}')\n",
        "\n",
        "\n",
        "if __name__ == '__main__':\n",
        "    # Load the dataframe with image urls and disease names\n",
        "    df = pd.read_csv('Data/data1-294.csv')\n",
        "\n",
        "    # Loop through the dataframe\n",
        "    for index, row in df.iterrows():\n",
        "        # Get the image url and disease name\n",
        "        image_url = row['images']\n",
        "        disease_name = row['skin_disorder_name']\n",
        "\n",
        "        # Save the image\n",
        "        save_image('Images/', disease_name, image_url, index)"
      ]
    },
    {
      "cell_type": "markdown",
      "metadata": {
        "id": "2VAcUVt4i2FJ"
      },
      "source": [
        "# **Data Cleaning**"
      ]
    },
    {
      "cell_type": "code",
      "execution_count": null,
      "metadata": {
        "id": "8OtVuOedlw4V"
      },
      "outputs": [],
      "source": [
        "# import required libraries\n",
        "import shutil\n",
        "import os\n",
        "from PIL import Image\n",
        "import imagehash\n",
        "import random"
      ]
    },
    {
      "cell_type": "code",
      "execution_count": null,
      "metadata": {
        "id": "VSPpBXCvGAuD",
        "outputId": "39e58e22-8108-48dc-8377-a5ae2cd37e56"
      },
      "outputs": [
        {
          "name": "stdout",
          "output_type": "stream",
          "text": [
            "(13992, 2)\n"
          ]
        },
        {
          "data": {
            "text/html": [
              "<div>\n",
              "<style scoped>\n",
              "    .dataframe tbody tr th:only-of-type {\n",
              "        vertical-align: middle;\n",
              "    }\n",
              "\n",
              "    .dataframe tbody tr th {\n",
              "        vertical-align: top;\n",
              "    }\n",
              "\n",
              "    .dataframe thead th {\n",
              "        text-align: right;\n",
              "    }\n",
              "</style>\n",
              "<table border=\"1\" class=\"dataframe\">\n",
              "  <thead>\n",
              "    <tr style=\"text-align: right;\">\n",
              "      <th></th>\n",
              "      <th>skin_disorder_name</th>\n",
              "      <th>images</th>\n",
              "    </tr>\n",
              "  </thead>\n",
              "  <tbody>\n",
              "    <tr>\n",
              "      <th>0</th>\n",
              "      <td>acne affecting the back images</td>\n",
              "      <td>https://dermnetnz.org/assets/Uploads/acne/acne...</td>\n",
              "    </tr>\n",
              "    <tr>\n",
              "      <th>1</th>\n",
              "      <td>acne affecting the back images</td>\n",
              "      <td>https://dermnetnz.org/assets/Uploads/acne/acne...</td>\n",
              "    </tr>\n",
              "    <tr>\n",
              "      <th>2</th>\n",
              "      <td>acne affecting the back images</td>\n",
              "      <td>https://dermnetnz.org/assets/Uploads/acne/acne...</td>\n",
              "    </tr>\n",
              "    <tr>\n",
              "      <th>3</th>\n",
              "      <td>acne affecting the back images</td>\n",
              "      <td>https://dermnetnz.org/assets/Uploads/acne/acne...</td>\n",
              "    </tr>\n",
              "    <tr>\n",
              "      <th>4</th>\n",
              "      <td>acne affecting the back images</td>\n",
              "      <td>https://dermnetnz.org/assets/Uploads/acne/acne...</td>\n",
              "    </tr>\n",
              "  </tbody>\n",
              "</table>\n",
              "</div>"
            ],
            "text/plain": [
              "               skin_disorder_name  \\\n",
              "0  acne affecting the back images   \n",
              "1  acne affecting the back images   \n",
              "2  acne affecting the back images   \n",
              "3  acne affecting the back images   \n",
              "4  acne affecting the back images   \n",
              "\n",
              "                                              images  \n",
              "0  https://dermnetnz.org/assets/Uploads/acne/acne...  \n",
              "1  https://dermnetnz.org/assets/Uploads/acne/acne...  \n",
              "2  https://dermnetnz.org/assets/Uploads/acne/acne...  \n",
              "3  https://dermnetnz.org/assets/Uploads/acne/acne...  \n",
              "4  https://dermnetnz.org/assets/Uploads/acne/acne...  "
            ]
          },
          "execution_count": 3,
          "metadata": {},
          "output_type": "execute_result"
        }
      ],
      "source": [
        "# load and preview dataset\n",
        "image_df = pd.read_csv('Data/data1-294.csv')\n",
        "print(image_df.shape)\n",
        "image_df.head()"
      ]
    },
    {
      "cell_type": "markdown",
      "metadata": {
        "id": "x-8lDMoEGj2Y"
      },
      "source": [
        "### **<u>Acne</u>**\n",
        "\n",
        "**Meaning**<br>\n",
        "Acne is a common skin condition that occurs when hair follicles become clogged with oil and dead skin cells. This leads to the formation of pimples, blackheads, whiteheads, and sometimes deeper cysts. Acne usually appears on the face, neck, chest, back, and shoulders, and can affect people of all ages, although it is most common during puberty.<br>\n",
        "\n",
        "**Causes**<br>\n",
        "The causes of acne are multifactorial and can include hormonal imbalances, genetics, stress, certain medications, and an overproduction of sebum, the oily substance that lubricates the skin. Certain factors such as diet and hygiene practices have also been implicated in the development of acne, although the evidence for these is less clear.<br>\n",
        "\n",
        "**Symptoms**<br>\n",
        "The symptoms of acne can vary depending on the severity of the condition. Mild acne may only present with a few blackheads or whiteheads, while moderate acne can involve a combination of pimples, blackheads, and whiteheads. Severe acne may include deep, painful cysts that can lead to scarring. Acne can also have a significant impact on a person's self-esteem and mental health, particularly if it is severe or persistent.\n",
        "\n",
        "**Treatment**<br>\n",
        "Treatment options for acne depend on the severity of the condition. Mild acne can often be managed with over-the-counter topical treatments that contain benzoyl peroxide or salicylic acid. These products work by reducing the amount of oil on the skin and unclogging pores. More severe acne may require prescription medications, such as topical retinoids or oral antibiotics, which can help to reduce inflammation and kill the bacteria that cause acne. In cases of severe, persistent acne, isotretinoin, a powerful oral medication, may be prescribed. Additionally, lifestyle modifications such as maintaining good hygiene practices, avoiding certain foods, and managing stress can also be helpful in managing acne.\n"
      ]
    },
    {
      "cell_type": "markdown",
      "metadata": {
        "id": "dztlobl3GtvM"
      },
      "source": [
        "#### **Cleaning Acne images**"
      ]
    },
    {
      "cell_type": "markdown",
      "metadata": {
        "id": "spwOYV7XGyfy"
      },
      "source": [
        "**i. Moving acne images in the Images folder to their own folder**"
      ]
    },
    {
      "cell_type": "code",
      "execution_count": null,
      "metadata": {
        "id": "6aRc4ko4GntM",
        "outputId": "4bc97bcb-9765-409e-d08d-1d9440f4122c"
      },
      "outputs": [
        {
          "data": {
            "text/plain": [
              "['acne affecting the back images',\n",
              " 'acne affecting the face images',\n",
              " 'acne and other follicular disorder images',\n",
              " 'facial acne images']"
            ]
          },
          "execution_count": 4,
          "metadata": {},
          "output_type": "execute_result"
        }
      ],
      "source": [
        "# Labels representing acne in DermNet's scrapped data\n",
        "acne_labels = list(image_df[image_df['skin_disorder_name'].str.contains('acne')]['skin_disorder_name'].unique())\n",
        "\n",
        "# removing acne labels whose images will not be used because there are not clear\n",
        "acne_labels.remove('infantile acne images')\n",
        "acne_labels.remove('steroid acne images')\n",
        "\n",
        "acne_labels"
      ]
    },
    {
      "cell_type": "code",
      "execution_count": null,
      "metadata": {
        "id": "AsotmgReG-Hf",
        "outputId": "83e2c639-3ce3-45d8-f5b6-ca0455382edd"
      },
      "outputs": [
        {
          "name": "stdout",
          "output_type": "stream",
          "text": [
            "There are 702 acne images\n"
          ]
        },
        {
          "data": {
            "text/plain": [
              "['acne affecting the back images0.jpg',\n",
              " 'acne affecting the back images1.jpg',\n",
              " 'acne affecting the back images10.jpg',\n",
              " 'acne affecting the back images11.jpg',\n",
              " 'acne affecting the back images12.jpg']"
            ]
          },
          "execution_count": 5,
          "metadata": {},
          "output_type": "execute_result"
        }
      ],
      "source": [
        "# Getting the acne images file names\n",
        "original_acne_img = [image_name for image_name in os.listdir('Images/') \\\n",
        "                     if ('acne affecting the back images' in image_name) |\\\n",
        "                        ('acne affecting the face images' in image_name) |\\\n",
        "                        ('acne and other follicular disorder images' in image_name) |\\\n",
        "                        ('facial acne images' in image_name)\n",
        "                        ]\n",
        "\n",
        "# Confirming the number of acne images before any cleaning\n",
        "print('There are', len(original_acne_img),'acne images')\n",
        "original_acne_img[:5]"
      ]
    },
    {
      "cell_type": "code",
      "execution_count": null,
      "metadata": {
        "id": "HrfY_IiyG-01",
        "outputId": "9edd0f38-b575-447d-e9b3-7c7f1a7e817d"
      },
      "outputs": [
        {
          "name": "stdout",
          "output_type": "stream",
          "text": [
            "There are 702 acne images.\n"
          ]
        }
      ],
      "source": [
        "# Creating a new folder with just acne images to make cleaning easier\n",
        "folder_name = 'cleaned_images/acne_images/'\n",
        "\n",
        "# Checking if the folder exists and deleting it if it exists\n",
        "if os.path.exists(folder_name):\n",
        "    # deleting the folder and its contents\n",
        "    shutil.rmtree(folder_name)\n",
        "\n",
        "# create the new folder\n",
        "os.mkdir(folder_name)\n",
        "\n",
        "# Moving the images into that folder\n",
        "for img in original_acne_img:\n",
        "    origin = os.path.join('Images/', img)\n",
        "    destination = os.path.join(folder_name, img)\n",
        "    shutil.copy(origin, destination)\n",
        "\n",
        "# Confirming that the number of acne images after moving them to a separate folder is still 702\n",
        "acne_img = [image_name for image_name in os.listdir('cleaned_images/acne_images/')]\n",
        "print('There are', len(acne_img),'acne images.')"
      ]
    },
    {
      "cell_type": "markdown",
      "metadata": {
        "id": "2MalKKLEHOLH"
      },
      "source": [
        "**ii. Combining the images into one folder**"
      ]
    },
    {
      "cell_type": "code",
      "execution_count": null,
      "metadata": {
        "id": "c-wanBgnHYt-",
        "outputId": "5f863b49-1cf0-4356-8c7a-0bd1194ad427"
      },
      "outputs": [
        {
          "data": {
            "text/plain": [
              "['07Acne081101.jpg',\n",
              " '07Acne0811011 - Copy.jpg',\n",
              " '07Acne0811011.jpg',\n",
              " '07AcnePittedScars.jpg',\n",
              " '07AcnePittedScars1 - Copy.jpg']"
            ]
          },
          "execution_count": 7,
          "metadata": {},
          "output_type": "execute_result"
        }
      ],
      "source": [
        "# extra acne images\n",
        "extra_acne = [image_name for image_name in os.listdir('extra_images/extra_acne_images')]\n",
        "extra_acne[:5]"
      ]
    },
    {
      "cell_type": "code",
      "execution_count": null,
      "metadata": {
        "id": "olb3Jw3hHfVG",
        "outputId": "4df17227-65b2-4f7b-adc4-dcdf7cd2ea89"
      },
      "outputs": [
        {
          "name": "stdout",
          "output_type": "stream",
          "text": [
            "There are a total of 1427 acne images.\n"
          ]
        }
      ],
      "source": [
        "# moving the extra images into the acne folder\n",
        "for img in extra_acne:\n",
        "    origin = os.path.join('extra_images/extra_acne_images/', img)\n",
        "    destination = os.path.join('cleaned_images/acne_images/', img)\n",
        "    shutil.copy(origin, destination)\n",
        "\n",
        "# Confirming that the total acne images is 1427 before any cleaning\n",
        "acne_img = [image_name for image_name in os.listdir('cleaned_images/acne_images/')]\n",
        "print('There are a total of', len(acne_img),'acne images.')"
      ]
    },
    {
      "cell_type": "markdown",
      "metadata": {
        "id": "j02nPOyKHkVr"
      },
      "source": [
        "**iii. Removing duplicate images from the folder**"
      ]
    },
    {
      "cell_type": "code",
      "execution_count": null,
      "metadata": {
        "id": "pqqQG7mLHY48"
      },
      "outputs": [],
      "source": [
        "# Function for removing duplicated images.\n",
        "def drop_duplicated_images(folder):\n",
        "\n",
        "    # Define a threshold for image similarity\n",
        "    threshold = 8\n",
        "\n",
        "    # Define a dictionary to store the hash values and file paths of the images\n",
        "    image_hashes = {}\n",
        "    duplicated_images = []\n",
        "\n",
        "    # Loop through all the image files in a directory\n",
        "    for filename in os.listdir(folder):\n",
        "        # Load the image file\n",
        "        image = Image.open(os.path.join(folder, filename))\n",
        "\n",
        "         # Compute the hash value of the image using the average hash algorithm\n",
        "        hash_value = imagehash.average_hash(image)\n",
        "\n",
        "        # Check if the hash value is already in the dictionary\n",
        "        if hash_value in image_hashes:\n",
        "            # If a similar hash value already exists, delete the duplicate image\n",
        "            duplicated_images.append(filename)\n",
        "            os.remove(os.path.join(folder, filename))\n",
        "        else:\n",
        "             # Otherwise, add the hash value and file path to the dictionary\n",
        "            image_hashes[hash_value] = os.path.join(folder, filename)\n",
        "\n",
        "    return duplicated_images"
      ]
    },
    {
      "cell_type": "code",
      "execution_count": null,
      "metadata": {
        "id": "6R1sHPAfHq-9",
        "outputId": "bf0d7913-a830-4d13-da1c-4ac980d9a3ab"
      },
      "outputs": [
        {
          "name": "stdout",
          "output_type": "stream",
          "text": [
            "There are 1109 acne images after removing duplicated images\n"
          ]
        }
      ],
      "source": [
        "# Dropping duplicates\n",
        "duplicated_images = drop_duplicated_images('cleaned_images/acne_images/')\n",
        "\n",
        "# number of acne images after removing duplicated images (1109)\n",
        "acne_img = [image_name for image_name in os.listdir('cleaned_images/acne_images/')]\n",
        "print('There are', len(acne_img),'acne images after removing duplicated images')"
      ]
    },
    {
      "cell_type": "markdown",
      "metadata": {
        "id": "aTyu7k64IHGJ"
      },
      "source": [
        "Acne and other follicular disorder images has a collection of different images. Only images that have acne as a specific label will be included, the others will be dropped from the dataset. </br>"
      ]
    },
    {
      "cell_type": "code",
      "execution_count": null,
      "metadata": {
        "id": "cw1lKEEeIIEI",
        "outputId": "2f04dc3b-1722-4de3-8bba-bc3d74ef8732"
      },
      "outputs": [
        {
          "name": "stdout",
          "output_type": "stream",
          "text": [
            "Number of acne images left: 1000\n"
          ]
        }
      ],
      "source": [
        "# dropping those images from the acne_images folder\n",
        "indexes_to_drop = [295, 296, 297, 298, 300, 303, 304, 307, 308, 309, 310, 311, 313, 314, 315, 316, 317, 318, 319, 320, 321, 322, 323, 325, 326, 328, 329, 330, 333, 337, 338, 339, 341, 342, 343, 344, 345, 346, 347, 348, 349, 350, 351, 354, 355, 359, 361, 362, 363, 364, 366, 367, 368, 371, 372, 373, 374, 375, 376, 378, 380, 381, 382, 384, 385, 387, 388, 389, 390, 392, 393, 395, 396, 397, 398, 402, 403, 405, 408, 409, 411, 413, 415, 416, 417, 419, 420, 421, 422, 423, 424, 425, 426, 427, 428, 429, 431, 432, 433, 434, 436, 437, 438, 441, 443, 444, 445, 446, 447]\n",
        "\n",
        "for filename in os.listdir('cleaned_images/acne_images/'):\n",
        "    for index in indexes_to_drop:\n",
        "        if f\"images{index}\" in filename.lower():\n",
        "            os.remove(os.path.join('cleaned_images/acne_images/', filename))\n",
        "\n",
        "print(\"Number of acne images left:\", len(os.listdir('cleaned_images/acne_images/')))"
      ]
    },
    {
      "cell_type": "markdown",
      "metadata": {
        "id": "Pv6DcygXIYJB"
      },
      "source": [
        "### **<u>Atopic dermatitis(Eczema) </u>**\n",
        "\n",
        "**Meaning**<br>\n",
        "Atopic dermatitis, also known as eczema, is a chronic inflammatory skin condition that is characterized by dry, itchy, and inflamed patches of skin. It is a common condition that can affect people of all ages, but it is most common in infants and children. <br>\n",
        "\n",
        "**Causes**<br>\n",
        "The exact causes of atopic dermatitis are not fully understood, but it is believed to be a combination of genetic and environmental factors. People with atopic dermatitis often have a genetic predisposition to the condition, and environmental triggers such as allergens, irritants, and stress can exacerbate the symptoms.\n",
        "\n",
        "**Symptoms**<br>\n",
        "The symptoms of atopic dermatitis can vary depending on the severity of the condition. Mild cases may only present with dry, itchy skin, while more severe cases can lead to red, inflamed, and weeping skin lesions. In some cases, the skin may become thickened and scaly. Atopic dermatitis can also cause significant discomfort and interfere with a person's quality of life.\n",
        "\n",
        "**Treatment**<br>\n",
        "Treatment options for eczema include using gentle soaps and moisturizers, avoiding harsh chemicals and irritants, and taking short, lukewarm baths or showers. Prescription creams or ointments containing corticosteroids or immunosuppressants may be used for more severe cases of eczema. Antihistamines can also be helpful in reducing itching. <br>\n",
        "Preventing flare-ups of eczema can be done by avoiding triggers such as certain foods, allergens, and irritants. Regular use of moisturizers can also help to keep the skin hydrated and reduce the risk of flare-ups.<br>"
      ]
    },
    {
      "cell_type": "markdown",
      "metadata": {
        "id": "ltzWXG32IcxZ"
      },
      "source": [
        "#### **Cleaning Eczema images**"
      ]
    },
    {
      "cell_type": "markdown",
      "metadata": {
        "id": "oVNaUo6zIc7W"
      },
      "source": [
        "**i. Moving eczema images in the Image folder to their own folder**"
      ]
    },
    {
      "cell_type": "code",
      "execution_count": null,
      "metadata": {
        "id": "TjNSJUIZIXgP",
        "outputId": "9801b191-b0cb-443d-b280-24d16b813f3d"
      },
      "outputs": [
        {
          "data": {
            "text/plain": [
              "8"
            ]
          },
          "execution_count": 12,
          "metadata": {},
          "output_type": "execute_result"
        }
      ],
      "source": [
        "# Labels representing eczema in Dermnet's scraped data.\n",
        "eczema_labels = image_df[(image_df['skin_disorder_name'].str.contains('eczema')) | \\\n",
        "                         (image_df['skin_disorder_name'].str.contains('atopic dermatitis images')) |\\\n",
        "                         (image_df['skin_disorder_name'].str.contains('hand dermatitis images')) |\\\n",
        "                         (image_df['skin_disorder_name'] == 'dermatitis images') |\\\n",
        "                         (image_df['skin_disorder_name'].str.contains('nummular dermatitis images'))] \\\n",
        "                         ['skin_disorder_name'].unique()\n",
        "len(eczema_labels)"
      ]
    },
    {
      "cell_type": "code",
      "execution_count": null,
      "metadata": {
        "id": "IHe0qJ5HIkhe",
        "outputId": "c0d4bd27-43b4-454c-d96e-d0b5c3b33837"
      },
      "outputs": [
        {
          "name": "stdout",
          "output_type": "stream",
          "text": [
            "There are 631 eczema images.\n"
          ]
        },
        {
          "data": {
            "text/plain": [
              "['atopic dermatitis images1058.jpg',\n",
              " 'atopic dermatitis images1059.jpg',\n",
              " 'atopic dermatitis images1060.jpg',\n",
              " 'atopic dermatitis images1061.jpg',\n",
              " 'atopic dermatitis images1062.jpg']"
            ]
          },
          "execution_count": 13,
          "metadata": {},
          "output_type": "execute_result"
        }
      ],
      "source": [
        "# Getting the eczema images file names\n",
        "eczema_img = [image_name for image_name in os.listdir('Images/') if ('eczema' in image_name) |\n",
        "                                                                    ('atopic dermatitis images' in image_name) |\n",
        "                                                                    ('hand dermatitis images' in image_name) |\n",
        "                                                                    (image_name.startswith('dermatitis images'))|\n",
        "                                                                    ('nummular dermatitis images' in image_name)\n",
        "                                                                     ]\n",
        "\n",
        "# Confirming the number of eczema images before any cleaning\n",
        "print('There are', len(eczema_img),'eczema images.')\n",
        "eczema_img[:5]"
      ]
    },
    {
      "cell_type": "code",
      "execution_count": null,
      "metadata": {
        "id": "32MmSiaxIk5C"
      },
      "outputs": [],
      "source": [
        "# Creating a new folder with just eczema images to make cleaning easier\n",
        "folder_name = 'cleaned_images/eczema_images/'\n",
        "\n",
        "# Note📝: For reproducibility of the code, this step is important.\n",
        "         # If the folder is not dropped before an error will occur if you rerun this cell\n",
        "\n",
        "# Checking if the folder exists and deleting it if it exists\n",
        "if os.path.exists(folder_name):\n",
        "    # deleting the folder and its contents\n",
        "    shutil.rmtree(folder_name)\n",
        "\n",
        "# create the new folder\n",
        "os.mkdir(folder_name)\n",
        "\n",
        "# Moving the images into that folder\n",
        "for img in eczema_img:\n",
        "    origin = os.path.join('Images/', img)\n",
        "    destination = os.path.join(folder_name, img)\n",
        "    shutil.copy(origin, destination)"
      ]
    },
    {
      "cell_type": "code",
      "execution_count": null,
      "metadata": {
        "id": "RPTERinlIrwF",
        "outputId": "6c0cefc9-cfd5-4ee5-c2a6-6719be451493"
      },
      "outputs": [
        {
          "name": "stdout",
          "output_type": "stream",
          "text": [
            "There are 631 eczema images.\n"
          ]
        }
      ],
      "source": [
        "# Confirming that the number of eczema images after moving them to a separate folder is still 631\n",
        "eczema_img = [image_name for image_name in os.listdir('cleaned_images/eczema_images/')]\n",
        "print('There are', len(eczema_img),'eczema images.')"
      ]
    },
    {
      "cell_type": "markdown",
      "metadata": {
        "id": "TpAb7Gp-IvQP"
      },
      "source": [
        "**ii. Combining the images into one folder**"
      ]
    },
    {
      "cell_type": "code",
      "execution_count": null,
      "metadata": {
        "id": "JoNDN3AiI3bw",
        "outputId": "3738701d-cce1-4ebe-b3a7-25efeb38f4b1"
      },
      "outputs": [
        {
          "data": {
            "text/plain": [
              "['eczema234.jpg',\n",
              " 'eczema289.jpg',\n",
              " 'eczema301.jpg',\n",
              " 'eczema403.jpg',\n",
              " 'eczema500.jpg']"
            ]
          },
          "execution_count": 16,
          "metadata": {},
          "output_type": "execute_result"
        }
      ],
      "source": [
        "# Extra eczema images\n",
        "extra_eczema = [image_name for image_name in os.listdir('extra_images/extra_eczema')]\n",
        "\n",
        "# The folder has a mixture of images. We will filter out the eczema images only\n",
        "extra_eczema_images = [image_name for image_name in extra_eczema\\\n",
        "                        if ('dermatitis' in image_name) |\\\n",
        "                        ('eczema' in image_name)]\n",
        "extra_eczema_images[:5]"
      ]
    },
    {
      "cell_type": "code",
      "execution_count": null,
      "metadata": {
        "id": "dUgGj8DPI3k5",
        "outputId": "29b10e9f-9e64-4a19-eccb-5e7e57a97b95"
      },
      "outputs": [
        {
          "name": "stdout",
          "output_type": "stream",
          "text": [
            "There are a total of 1367 eczema images.\n"
          ]
        }
      ],
      "source": [
        "# This was done by moving the extra images into the eczema folder\n",
        "for img in extra_eczema_images:\n",
        "    origin = os.path.join('extra_images/extra_eczema_images_clean/', img)\n",
        "    destination = os.path.join('cleaned_images/eczema_images/', img)\n",
        "    shutil.copy(origin, destination)\n",
        "\n",
        "# Confirming that the total acne images is 1367 before any cleaning\n",
        "eczema_img = [image_name for image_name in os.listdir('cleaned_images/eczema_images/')]\n",
        "print('There are a total of', len(eczema_img),'eczema images.')"
      ]
    },
    {
      "cell_type": "markdown",
      "metadata": {
        "id": "D8702_HjJAzd"
      },
      "source": [
        "**iii. Removing duplicate images from the folder**"
      ]
    },
    {
      "cell_type": "code",
      "execution_count": null,
      "metadata": {
        "id": "ybEjSvqlI9iC",
        "outputId": "93dfe3f5-3200-4a1b-e467-73cdaadc3620"
      },
      "outputs": [
        {
          "name": "stdout",
          "output_type": "stream",
          "text": [
            "There are 1000 eczema images after removing duplicated images.\n"
          ]
        }
      ],
      "source": [
        "# Using a function created earlier to drop duplicates\n",
        "duplicated_images = drop_duplicated_images('cleaned_images/eczema_images/')\n",
        "\n",
        "# Confirming the number of images after dropping duplicates\n",
        "eczema_img = [image_name for image_name in os.listdir('cleaned_images/eczema_images/')]\n",
        "print('There are', len(eczema_img),'eczema images after removing duplicated images.')"
      ]
    },
    {
      "cell_type": "markdown",
      "metadata": {
        "id": "YdXK-rUcJRgA"
      },
      "source": [
        "### **<u>Actinic keratosis</u>**\n",
        "**Meaning** <br>\n",
        "Actinic keratosis(AK) is a skin condition that is caused by long-term exposure to UV rays, resulting in the formation of rough, scaly patches on the skin. It is considered a precancerous condition because it has the potential to develop into squamous cell carcinoma, a type of skin cancer\n",
        "\n",
        "**Causes** <br>\n",
        "The primary cause of actinic keratosis is long-term exposure to UV rays from the sun or other sources such as tanning beds. People with fair skin, light-colored hair, and light-colored eyes are at a higher risk of developing AK. Other risk factors include a history of frequent sunburns, a weakened immune system, and exposure to chemicals such as coal tar or arsenic.\n",
        "\n",
        "**Symptoms** <br>\n",
        "The most common symptom of actinic keratosis is the formation of rough, scaly patches or lesions on the skin. These patches can be pink, red, or brown in color and may feel like sandpaper. They are usually found on areas of the skin that are frequently exposed to the sun, such as the face, scalp, ears, neck, hands, and arms. In some cases, the patches may itch or burn, and they may become inflamed or bleed if they are scratched or rubbed.\n",
        "\n",
        "**Treatment** <br>\n",
        "The treatment of actinic keratosis depends on the severity of the condition. Mild cases may be treated with topical creams or gels that contain medications such as imiquimod, fluorouracil, or diclofenac. These medications work by stimulating the immune system or causing the abnormal cells to die off. In more severe cases, cryotherapy (freezing the lesions with liquid nitrogen) or curettage (scraping off the lesions with a special tool) may be necessary. In rare cases where the lesions have developed into skin cancer, surgical removal may be required. It is also important to take steps to prevent further damage to the skin, such as wearing protective clothing and sunscreen, avoiding tanning beds, and staying out of the sun during peak hours.\n"
      ]
    },
    {
      "cell_type": "markdown",
      "metadata": {
        "id": "JErwun_SJVZg"
      },
      "source": [
        "**i. Moving actinic keratosis images in the Image folder to their own folder**"
      ]
    },
    {
      "cell_type": "code",
      "execution_count": null,
      "metadata": {
        "id": "OEZY-JqeJEUM",
        "outputId": "e764ee73-1ad3-4f78-8510-0a4fec944bb7"
      },
      "outputs": [
        {
          "name": "stdout",
          "output_type": "stream",
          "text": [
            "['actinic keratosis affecting the face images'\n",
            " 'actinic keratosis affecting the hand images'\n",
            " 'actinic keratosis affecting the legs and feet images'\n",
            " 'actinic keratosis affecting the scalp images'\n",
            " 'actinic keratosis dermoscopy images'\n",
            " 'actinic keratosis on the nose images'\n",
            " 'actinic keratosis treated with imiquimod images'\n",
            " 'granular parakeratosis images' 'keratosis pilaris images'\n",
            " 'seborrhoeic keratosis dermoscopy images' 'seborrhoeic keratosis images'\n",
            " 'solar keratosis affecting the face images'\n",
            " 'solar keratosis affecting the hand images'\n",
            " 'solar keratosis affecting the legs and feet images'\n",
            " 'solar keratosis affecting the scalp images'\n",
            " 'solar keratosis on the nose images'\n",
            " 'solar keratosis treated with imiquimod images']\n"
          ]
        }
      ],
      "source": [
        "# image labels with the name keratosis in DermNet's scrapped data\n",
        "print(image_df[image_df['skin_disorder_name'].str.contains('keratosis')]['skin_disorder_name'].unique())"
      ]
    },
    {
      "cell_type": "markdown",
      "metadata": {
        "id": "KAT0y5FvJdD7"
      },
      "source": [
        "Actinic keratosis is also known as solar keratosis or senile keratosis"
      ]
    },
    {
      "cell_type": "code",
      "execution_count": null,
      "metadata": {
        "id": "ZabTj26uJZ_e"
      },
      "outputs": [],
      "source": [
        "# extra keratosis images and dataframe\n",
        "df = pd.read_csv('Data/ISIC_2019_Training_GroundTruth.csv')\n",
        "\n",
        "# filter df to get rows where AK = 1.0\n",
        "df1 = df.copy()\n",
        "df1 = df1[df1['AK'] == 1.0]\n",
        "df1['skin_disorder_name'] = df1['images']\n",
        "\n",
        "# drop the unwanted columns from df\n",
        "df1 = df1.drop(['MEL', 'NV', 'BCC', 'AK', 'BKL', 'DF', 'VASC', 'SCC', 'UNK'], axis=1)\n",
        "\n",
        "# Loop through each file in the folder and add the skin disorder name to the list\n",
        "img_names = []\n",
        "image_paths = []\n",
        "\n",
        "for file in os.listdir('extra_images/extra_actinic_keratosis_images'):\n",
        "    if file.endswith(\".jpg\"):\n",
        "        skin_disorder_name = file.split(\".\")[0]\n",
        "        img_names.append(skin_disorder_name)\n",
        "        image_paths.append(file)"
      ]
    },
    {
      "cell_type": "code",
      "execution_count": null,
      "metadata": {
        "id": "tKrSKmkhJgFq",
        "outputId": "eb1282a6-0704-4f7b-bdd8-db23f28dd1e4"
      },
      "outputs": [
        {
          "name": "stdout",
          "output_type": "stream",
          "text": [
            "There are 1391 actinic keratosis images\n"
          ]
        }
      ],
      "source": [
        "# Getting the keratosis images file names\n",
        "keratosis_img = [image_name for image_name in os.listdir('Images/') if ('actinic keratosis' in image_name) | ('solar keratosis' in image_name)]\n",
        "AK_img = [image_name for image_name in os.listdir('extra_images/extra_AK_and_BKL_images') if any(x in image_name for x in df1['images'].tolist())]\n",
        "AK_img2 = [image_name for image_name in os.listdir('extra_images/extra_actinic_keratosis_images')]\n",
        "\n",
        "# Checking if the folder exists and deleting it if it exists\n",
        "if os.path.exists('cleaned_images/keratosis_images/'):\n",
        "    # deleting the folder and its contents\n",
        "    shutil.rmtree('cleaned_images/keratosis_images/')\n",
        "\n",
        "# Creating a new folder with just keratosis images to make cleaning easier\n",
        "os.mkdir('cleaned_images/keratosis_images/')\n",
        "for img in keratosis_img:\n",
        "    origin = os.path.join('Images/', img)\n",
        "    destination = os.path.join('cleaned_images/keratosis_images/', img)\n",
        "    shutil.copy(origin, destination)\n",
        "\n",
        "for img in AK_img:\n",
        "    origin = os.path.join('extra_images/extra_AK_and_BKL_images/', img)\n",
        "    destination = os.path.join('cleaned_images/keratosis_images/', img)\n",
        "    shutil.copy(origin, destination)\n",
        "\n",
        "for img in AK_img2:\n",
        "    origin = os.path.join('extra_images/extra_actinic_keratosis_images/', img)\n",
        "    destination = os.path.join('cleaned_images/keratosis_images/', img)\n",
        "    shutil.copy(origin, destination)\n",
        "\n",
        "# Confirming that the number of keratosis images after moving them to a separate folder is still 1391\n",
        "keratosis_img = [image_name for image_name in os.listdir('cleaned_images/keratosis_images/')]\n",
        "print('There are', len(keratosis_img),'actinic keratosis images')"
      ]
    },
    {
      "cell_type": "markdown",
      "metadata": {
        "id": "LkSLYx9jJmbG"
      },
      "source": [
        "**ii. Removing duplicate images from the folder**"
      ]
    },
    {
      "cell_type": "code",
      "execution_count": null,
      "metadata": {
        "id": "Q0kaUPLUJjLa",
        "outputId": "88ae1747-2831-45d2-a216-f41bafaffc8a"
      },
      "outputs": [
        {
          "name": "stdout",
          "output_type": "stream",
          "text": [
            "Number of actinic keratosis images after removing duplicated images: 1000\n"
          ]
        }
      ],
      "source": [
        "# call function to drop duplicates from image folder\n",
        "duplicated_images = drop_duplicated_images('cleaned_images/keratosis_images/')\n",
        "\n",
        "# number of images after removing duplicates\n",
        "keratosis_img = [image_name for image_name in os.listdir('cleaned_images/keratosis_images/')]\n",
        "print('Number of actinic keratosis images after removing duplicated images:', len(keratosis_img))"
      ]
    },
    {
      "cell_type": "markdown",
      "metadata": {
        "id": "jThWFF52Jsxv"
      },
      "source": [
        "### **<u>Benign Keratosis-like Lesions**</u>\n",
        "**Meaning** <br>\n",
        "Benign Keratosis-like Lesions (BKL) are a group of benign skin lesions that resemble actinic keratosis (AK) but are not classified as AK because they do not have the same degree of dysplasia. BKL lesions can appear as small, scaly, or waxy bumps on the skin, ranging in color from light tan to dark brown. They typically occur on areas of the skin that have been exposed to the sun, such as the face, neck, scalp, and hands. Examples of BKL lesions include seborrheic keratosis, solar lentigo, and lichen planus-like keratosis.\n",
        "\n",
        "**Causes** <br>\n",
        "The exact cause of BKL is not known, but it is believed to be related to long-term sun exposure. Other factors that may contribute to the development of BKL include a weakened immune system, age, and a history of other skin conditions.\n",
        "\n",
        "**Symptoms**<br>\n",
        "BKL lesions typically appear as small, scaly, or waxy bumps on the skin. They may be light tan to dark brown in color and may have a rough, textured surface. They can be single or multiple and can occur on any part of the body, but are most commonly found on the face, neck, scalp, and hands.\n",
        "\n",
        "**Treatment**<br>\n",
        "BKL lesions are usually benign and do not require treatment unless they are causing symptoms or affecting the patient's appearance. Treatment options may include cryotherapy (freezing the lesion with liquid nitrogen), curettage (scraping the lesion off the skin), or topical medications such as 5-fluorouracil or imiquimod. In some cases, BKL lesions may be biopsied to confirm the diagnosis or rule out other skin conditions. It is important to protect the skin from sun exposure and to seek medical attention for any suspicious skin lesions."
      ]
    },
    {
      "cell_type": "markdown",
      "metadata": {
        "id": "LbRG2jZNJ2Jg"
      },
      "source": [
        "**i. Moving Benign Keratosis-like Lesions images to their own folder**"
      ]
    },
    {
      "cell_type": "code",
      "execution_count": null,
      "metadata": {
        "id": "643RrbfyJym-",
        "outputId": "695e1db7-8926-4d0e-ea2a-eaea9561c4d6"
      },
      "outputs": [
        {
          "name": "stdout",
          "output_type": "stream",
          "text": [
            "There are 1003 BKL images\n"
          ]
        }
      ],
      "source": [
        "# filter df to get rows where BKL = 1.0\n",
        "BKL_df = df.copy()\n",
        "BKL_df = BKL_df[BKL_df['BKL'] == 1.0]\n",
        "BKL_df = BKL_df[~BKL_df[\"images\"].str.contains(\"downsampled\")]\n",
        "BKL_df['skin_disorder_name'] = BKL_df['images']\n",
        "\n",
        "# drop the unwanted columns and rows from df\n",
        "BKL_df = BKL_df.drop(['MEL', 'NV', 'BCC', 'AK', 'BKL', 'DF', 'VASC', 'SCC', 'UNK'], axis=1)\n",
        "BKL_df = BKL_df[:1003]\n",
        "\n",
        "# Getting the BKL images file names\n",
        "BKL_img = [image_name for image_name in os.listdir('extra_images/extra_AK_and_BKL_images') if any(x in image_name for x in BKL_df['images'].tolist())]\n",
        "\n",
        "# Checking if the folder exists and deleting it if it exists\n",
        "if os.path.exists('cleaned_images/BKL_images/'):\n",
        "    # deleting the folder and its contents\n",
        "    shutil.rmtree('cleaned_images/BKL_images/')\n",
        "\n",
        "# Creating a new folder with just BKL images to make cleaning easier\n",
        "os.mkdir('cleaned_images/BKL_images/')\n",
        "for img in BKL_img:\n",
        "    origin = os.path.join('extra_images/extra_AK_and_BKL_images/', img)\n",
        "    destination = os.path.join('cleaned_images/BKL_images/', img)\n",
        "    shutil.copy(origin, destination)\n",
        "\n",
        "# Number of BKL images after moving them to a separate folder\n",
        "BKL_img = [image_name for image_name in os.listdir('cleaned_images/BKL_images/')]\n",
        "print('There are', len(BKL_img),'BKL images')"
      ]
    },
    {
      "cell_type": "markdown",
      "metadata": {
        "id": "wfEoU8a1J8h_"
      },
      "source": [
        "**ii. Removing duplicated images from the folder**"
      ]
    },
    {
      "cell_type": "code",
      "execution_count": null,
      "metadata": {
        "id": "Z6a2MmbZJ5Zi",
        "outputId": "a5d60c10-3ba9-450f-d9b1-0fac4e573555"
      },
      "outputs": [
        {
          "name": "stdout",
          "output_type": "stream",
          "text": [
            "Number of BKL images after removing duplicated images: 1000\n"
          ]
        }
      ],
      "source": [
        "# use the function to drop duplicates from image folder\n",
        "duplicated_images2 = drop_duplicated_images('cleaned_images/BKL_images/')\n",
        "\n",
        "# number of images after removing duplicates\n",
        "BKL_img = [image_name for image_name in os.listdir('cleaned_images/BKL_images/')]\n",
        "print('Number of BKL images after removing duplicated images:', len(BKL_img))"
      ]
    },
    {
      "cell_type": "markdown",
      "metadata": {
        "id": "RDDgvlrtKA3E"
      },
      "source": [
        "### **<u>Melanoma**</u>\n",
        "**Definition**<br>\n",
        "Melanoma is a disease in which malignant (cancer) cells form in melanocytes (cells that color the skin). There are different types of cancer that start in the skin. Melanoma can occur anywhere on the skin. Unusual moles, exposure to sunlight, and health history can affect the risk of melanoma.\n",
        "\n",
        "The most common type of melanoma is superficial spreading melanoma. It tends to spread across the surface of the skin, has uneven borders, and varies in color from brown to black, pink, or red.\n",
        "\n",
        "Nodular melanoma is another type that grows down into deeper layers of the skin and may appear as a raised bump or growth.\n",
        "\n",
        "Lentigo maligna melanoma tends to appear on parts of the body that get more sun, especially the face, and it often affects older people. It looks like a large, uneven dark patch on the surface of the skin.\n",
        "\n",
        "Metastatic melanoma occurs when the cancer spreads, or metastasizes, to other parts of the body, possibly including the lymph nodes, organs, or bones.\n",
        "\n",
        "Other rare types of melanoma also exist, and while it most commonly affects the skin, some affect internal tissues, as well as the eyes."
      ]
    },
    {
      "cell_type": "markdown",
      "metadata": {
        "id": "7368ufpxKYw2"
      },
      "source": [
        "**i. Moving Melanoma images to their own folder**"
      ]
    },
    {
      "cell_type": "code",
      "execution_count": null,
      "metadata": {
        "id": "9hqGuIQrKUCe",
        "outputId": "6738ce10-5c99-4108-db77-200fcc68567a"
      },
      "outputs": [
        {
          "name": "stdout",
          "output_type": "stream",
          "text": [
            "['acral lentiginous melanoma images' 'amelanotic melanoma images'\n",
            " 'hypomelanotic malignant melanoma images'\n",
            " 'lentigo maligna melanoma images' 'melanoma in situ images'\n",
            " 'melanoma of nail unit images' 'metastatic melanoma images'\n",
            " 'nodular melanoma images' 'superficial spreading melanoma images']\n"
          ]
        },
        {
          "data": {
            "text/plain": [
              "9"
            ]
          },
          "execution_count": 25,
          "metadata": {},
          "output_type": "execute_result"
        }
      ],
      "source": [
        "## Labels representing melanoma in DermNet's scrapped data\n",
        "melanoma_labels = image_df[image_df['skin_disorder_name'].str.contains('melanoma')]['skin_disorder_name'].unique()\n",
        "print(melanoma_labels)\n",
        "\n",
        "#number of labels representing melanoma\n",
        "len(melanoma_labels)"
      ]
    },
    {
      "cell_type": "code",
      "execution_count": null,
      "metadata": {
        "id": "TTz4N8AGKbny",
        "outputId": "493dca9c-f4e1-4f77-c4e3-feb793f353f9"
      },
      "outputs": [
        {
          "name": "stdout",
          "output_type": "stream",
          "text": [
            "There are 5074 melanoma images\n"
          ]
        }
      ],
      "source": [
        "# Getting the melanoma images file names\n",
        "melanoma_img = [image_name for image_name in os.listdir('Images/') if 'melanoma' in image_name]\n",
        "\n",
        "# Checking if melanoma folder exists and deleting it if it exists\n",
        "if os.path.exists('cleaned_images/melanoma/'):\n",
        "    # deleting the folder and its contents\n",
        "    shutil.rmtree('cleaned_images/melanoma/')\n",
        "\n",
        "# Creating a new folder with just melanoma images to make cleaning easier\n",
        "os.mkdir('cleaned_images/melanoma/')\n",
        "for img in melanoma_img:\n",
        "    origin = os.path.join('Images/', img)\n",
        "    destination = os.path.join('cleaned_images/melanoma/', img)\n",
        "    shutil.copy(origin, destination)\n",
        "\n",
        "for filename in os.listdir('extra_images/extra_melanoma_images/'):\n",
        "    src_path = os.path.join('extra_images/extra_melanoma_images/', filename)\n",
        "    dst_path = os.path.join('cleaned_images/melanoma/', filename)\n",
        "    shutil.copy(src_path, dst_path)\n",
        "\n",
        "# Number of melanoma images after moving them to a separate folder\n",
        "melanoma_img = [image_name for image_name in os.listdir('cleaned_images/melanoma/')]\n",
        "print('There are', len(melanoma_img),'melanoma images')"
      ]
    },
    {
      "cell_type": "markdown",
      "metadata": {
        "id": "94w2jRelKhlz"
      },
      "source": [
        "**ii. Removing duplicated images from the folder**"
      ]
    },
    {
      "cell_type": "code",
      "execution_count": null,
      "metadata": {
        "id": "lZGJRz4YKeat",
        "outputId": "dbdbe76a-9782-4179-c45b-867d58d75260"
      },
      "outputs": [
        {
          "name": "stdout",
          "output_type": "stream",
          "text": [
            "There are 4631 melanoma images after removing duplicate images\n"
          ]
        }
      ],
      "source": [
        "# Dropping duplicates\n",
        "duplicated_images = drop_duplicated_images('cleaned_images/melanoma/')\n",
        "\n",
        "melanoma_img = [image_name for image_name in os.listdir('cleaned_images/melanoma/')]\n",
        "print('There are', len(melanoma_img),'melanoma images after removing duplicate images')"
      ]
    },
    {
      "cell_type": "code",
      "execution_count": null,
      "metadata": {
        "id": "IOovvmx6Klex"
      },
      "outputs": [],
      "source": [
        "# Function to randomly select 1000 images\n",
        "def reduce_images(folder_path):\n",
        "    # Get the list of image file name\n",
        "    file_names = os.listdir(folder_path)\n",
        "\n",
        "    # Shuffle the file names\n",
        "    random.shuffle(file_names)\n",
        "\n",
        "    # Select the first 1000 file names\n",
        "    selected_file_names = file_names[:1000]\n",
        "\n",
        "    # Create a new folder to store the selected images\n",
        "    selected_folder_path = f'{folder_path}_images'\n",
        "    os.mkdir(selected_folder_path)\n",
        "\n",
        "    # Copy the selected images to the new folder\n",
        "    for file_name in selected_file_names:\n",
        "        file_path = os.path.join(folder_path, file_name)\n",
        "        selected_file_path = os.path.join(selected_folder_path, file_name)\n",
        "        shutil.copy(file_path, selected_file_path)"
      ]
    },
    {
      "cell_type": "code",
      "execution_count": null,
      "metadata": {
        "id": "tRFBlCjfKn0_",
        "outputId": "857d1de7-94a7-4b94-d2f9-3038abdaf5a5"
      },
      "outputs": [
        {
          "name": "stdout",
          "output_type": "stream",
          "text": [
            "Number of melanoma images: 1000\n"
          ]
        }
      ],
      "source": [
        "# select 1000 images\n",
        "reduce_images('cleaned_images/melanoma')\n",
        "print('Number of melanoma images:', len([image_name for image_name in os.listdir('cleaned_images/melanoma_images/')]))"
      ]
    },
    {
      "cell_type": "markdown",
      "metadata": {
        "id": "kZcd4mTIKrRS"
      },
      "source": [
        "### **<u>Psoriasis </u>**\n",
        "\n",
        "**Meaning**<br>\n",
        "Psoriasis is a chronic autoimmune skin disorder characterized by the rapid buildup of skin cells that form thick, silvery scales and itchy, dry, and red patches on the skin. It is a non-contagious condition that can affect any part of the body, including the scalp, nails, and joints. Psoriasis occurs when the immune system mistakenly attacks healthy skin cells, causing the skin cells to grow too quickly and accumulate on the skin's surface. The condition is typically lifelong and can vary in severity from mild to severe. While there is no cure for psoriasis, there are treatments available that can help manage symptoms and improve quality of life. <br>\n",
        "\n",
        "**Causes**<br>\n",
        "The exact cause of psoriasis is not fully understood, but it is believed to be a combination of genetic, environmental, and immune system factors. Some of the known factors that can trigger or exacerbate psoriasis include:<br>\n",
        "\n",
        "<ol>\n",
        "  <li>Genetics: Psoriasis tends to run in families, suggesting a genetic component to the condition.</li>\n",
        "  <li>Immune system dysfunction: Psoriasis is believed to be an autoimmune disorder, in which the immune system mistakenly attacks healthy skin cells, causing inflammation and other symptoms.</li>\n",
        "  <li>Environmental factors: Certain environmental factors can trigger or worsen psoriasis, such as infections, injuries to the skin, stress, smoking, and alcohol consumption.</li>\n",
        "  <li>Medications: Certain medications, such as lithium, beta-blockers, and antimalarials, can trigger or worsen psoriasis.</li>\n",
        "  <li>Hormonal changes: Changes in hormone levels, such as those that occur during puberty, pregnancy, and menopause, can trigger or worsen psoriasis.</li>\n",
        "</ol>\n",
        "\n",
        "**Symptoms**<br>\n",
        "Psoriasis symptoms can vary depending on the type and severity of the condition, but some common symptoms include:<br>\n",
        "<ol>\n",
        "  <li>Red, inflamed patches of skin: These patches may be covered with thick, silvery scales that may flake off or bleed if scratched.</li>\n",
        "  <li>Dry, cracked skin: The affected skin may be dry and itchy, and may crack and bleed in severe cases.</li>\n",
        "  <li>Thickened, pitted, or ridged nails: Psoriasis can affect the nails, causing them to become thickened, discolored, pitted, or ridged.</li>\n",
        "  <li>Joint pain and stiffness: In some cases, psoriasis can also cause joint pain and stiffness, a condition called psoriatic arthritis.</li>\n",
        "  <li>Itching and burning: Psoriasis patches may be itchy and burning, which can cause discomfort and distress.</li>\n",
        "  <li>Soreness or discomfort: Psoriasis patches can be painful and tender to the touch.</li>\n",
        "</ol>\n",
        "\n",
        "\n",
        "**Treatment**<br>\n",
        "Treatment options for eczema include using gentle soaps and moisturizers, avoiding harsh chemicals and irritants, and taking short, lukewarm baths or showers. Prescription creams or ointments containing corticosteroids or immunosuppressants may be used for more severe cases of eczema. Antihistamines can also be helpful in reducing itching. <br>\n",
        "Preventing flare-ups of eczema can be done by avoiding triggers such as certain foods, allergens, and irritants. Regular use of moisturizers can also help to keep the skin hydrated and reduce the risk of flare-ups.<br>\n",
        "<ol>\n",
        "  <li>Topical medications: These are creams, ointments, gels, or foams that are applied directly to the affected skin to reduce inflammation and itching. Topical medications may include corticosteroids, vitamin D analogues, retinoids, and tar preparations.</li>\n",
        "  <li>Phototherapy: This involves exposing the skin to ultraviolet light to slow down the growth of affected skin cells and reduce inflammation. Phototherapy can be done in a doctor's office or at home using a special light box.</li>\n",
        "  <li>Systemic medications: These are medications that are taken orally or by injection to suppress the immune system and reduce inflammation. Systemic medications may include methotrexate, cyclosporine, and biologics.</li>\n",
        "  <li>Lifestyle changes: Making changes to your diet, reducing stress, and avoiding triggers such as smoking and alcohol consumption may help to reduce the frequency and severity of psoriasis flare-ups.</li>\n",
        "  <li>Moisturizers: Applying moisturizers regularly can help to soothe dry, itchy skin and reduce the risk of flare-ups.</li>\n",
        "</ol>"
      ]
    },
    {
      "cell_type": "markdown",
      "metadata": {
        "id": "n-fO64drKumP"
      },
      "source": [
        "**i. Moving psoriasis images in the Images folder to their own folder**"
      ]
    },
    {
      "cell_type": "code",
      "execution_count": null,
      "metadata": {
        "id": "204YTBrcK5nL",
        "outputId": "001cae60-dbbb-47a1-c6ad-9e73f315c10c"
      },
      "outputs": [
        {
          "name": "stdout",
          "output_type": "stream",
          "text": [
            "['chronic plaque psoriasis images', 'facial psoriasis images', 'flexural psoriasis images', 'generalised pustular psoriasis images', 'genital psoriasis images', 'guttate psoriasis images', 'nail psoriasis images', 'palmoplantar psoriasis images', 'psoriasis affecting the face images', 'psoriasis of the scalp images', 'pustular psoriasis of the hand and feet images']\n"
          ]
        },
        {
          "data": {
            "text/plain": [
              "11"
            ]
          },
          "execution_count": 31,
          "metadata": {},
          "output_type": "execute_result"
        }
      ],
      "source": [
        "# Labels representing acne in DermNet's scrapped data\n",
        "psoriasis_labels = list(image_df[image_df['skin_disorder_name'].str.contains('psoriasis')]['skin_disorder_name'].unique())\n",
        "print(psoriasis_labels)\n",
        "\n",
        "# Count of labels representing psoriasis\n",
        "len(psoriasis_labels)"
      ]
    },
    {
      "cell_type": "code",
      "execution_count": null,
      "metadata": {
        "id": "gEfoQl3IK9my",
        "outputId": "6fd0b8f7-0345-4ada-b937-a5ac313b936d"
      },
      "outputs": [
        {
          "name": "stdout",
          "output_type": "stream",
          "text": [
            "There are 1057 psoriasis images\n"
          ]
        }
      ],
      "source": [
        "# Getting the psoriasis images file names\n",
        "psoriasis_img = [image_name for image_name in os.listdir('Images/') if 'psoriasis' in image_name]\n",
        "\n",
        "# Checking if psoriasis folder exists and deleting it if it exists\n",
        "if os.path.exists('cleaned_images/psoriasis/'):\n",
        "    # deleting the folder and its contents\n",
        "    shutil.rmtree('cleaned_images/psoriasis/')\n",
        "\n",
        "# Creating a new folder with just psoriasis images to make cleaning easier\n",
        "os.mkdir('cleaned_images/psoriasis/')\n",
        "for img in psoriasis_img:\n",
        "    origin = os.path.join('Images/', img)\n",
        "    destination = os.path.join('cleaned_images/psoriasis/', img)\n",
        "    shutil.copy(origin, destination)\n",
        "\n",
        "for filename in os.listdir('extra_images/extra_psoriasis_images/'):\n",
        "    src_path = os.path.join('extra_images/extra_psoriasis_images/', filename)\n",
        "    dst_path = os.path.join('cleaned_images/psoriasis/', filename)\n",
        "    shutil.copy(src_path, dst_path)\n",
        "\n",
        "# Number of psoriasis images after moving them to a separate folder\n",
        "psoriasis_img = [image_name for image_name in os.listdir('cleaned_images/psoriasis/')]\n",
        "print('There are', len(psoriasis_img),'psoriasis images')"
      ]
    },
    {
      "cell_type": "markdown",
      "metadata": {
        "id": "G-pjNGFELFMt"
      },
      "source": [
        "**ii. Removing duplicated images from the folder**"
      ]
    },
    {
      "cell_type": "code",
      "execution_count": null,
      "metadata": {
        "id": "G2KU0VFLLErF",
        "outputId": "9b4f2078-07dc-477d-e607-862eadac3271"
      },
      "outputs": [
        {
          "name": "stdout",
          "output_type": "stream",
          "text": [
            "There are 1006 psoriasis images after removing duplicate images\n"
          ]
        }
      ],
      "source": [
        "# Dropping duplicates\n",
        "duplicated_images = drop_duplicated_images('cleaned_images/psoriasis/')\n",
        "\n",
        "psoriasis_img = [image_name for image_name in os.listdir('cleaned_images/psoriasis/')]\n",
        "print('There are', len(psoriasis_img),'psoriasis images after removing duplicate images')"
      ]
    },
    {
      "cell_type": "code",
      "execution_count": null,
      "metadata": {
        "id": "6JlbCxAeLI2A",
        "outputId": "a06db33e-e7f7-4bce-f012-18a9dd9f0fd7"
      },
      "outputs": [
        {
          "name": "stdout",
          "output_type": "stream",
          "text": [
            "Number of psoriasis images: 1000\n"
          ]
        }
      ],
      "source": [
        "# select 1000 images\n",
        "reduce_images('cleaned_images/psoriasis')\n",
        "print('Number of psoriasis images:', len([image_name for image_name in os.listdir('cleaned_images/psoriasis_images/')]))"
      ]
    },
    {
      "cell_type": "markdown",
      "metadata": {
        "id": "iLUIjMOZLSJw"
      },
      "source": [
        "### **<u>Basal cell carcinoma</u>**\n",
        "**Meaning**<br>\n",
        "Basal cell carcinoma (BCC) is a malignant tumor that also arises from the basal cells in the skin. It is the most common type of skin cancer. Malignant tumors are more dangerous than benign tumors because they can grow quickly and invade and destroy surrounding tissues, leading to significant damage to the body's normal functions.\n",
        "\n",
        "**Causes**<br>\n",
        "Basal cell carcinoma are primarily caused by exposure to ultraviolet (UV) radiation from the sun or tanning beds. Prolonged exposure to UV radiation damages the DNA in the skin cells, leading to mutations that can cause the cells to grow and divide uncontrollably, eventually forming a tumor. Other factors that may increase the risk of developing these skin cancers include having fair skin, a history of sunburns or intense sun exposure, a weakened immune system, a family history of skin cancer, and certain genetic conditions.\n",
        "\n",
        "**Symptoms**<br>\n",
        "Basal cell carcinoma can have similar symptoms, but there are some differences. The condition typically present as raised, pearly, or translucent bumps or lesions on the skin that may be pink, red, or white in color. These lesions can sometimes ulcerate or bleed, and may develop a crust or scab. This sometimes appear as a flat, scaly, or pigmented patch on the skin.\n",
        "\n",
        "**Treatment**<br>\n",
        "Basal cell carcinoma treatment plan depends on the size, location, and extent of the tumor. Surgical removal of the tumor is the primary treatment, and there are different techniques available, such as excision, curettage and electrodesiccation, Mohs surgery, or radiation therapy. For small tumors, excision may be sufficient, while Mohs surgery is recommended for larger or more advanced tumors to ensure complete removal. Radiation therapy may be used as an alternative to surgery for some cases. Systemic chemotherapy or immunotherapy is rarely used for advanced basal cell carcinoma that has spread to other parts of the body."
      ]
    },
    {
      "cell_type": "markdown",
      "metadata": {
        "id": "mp1lNhzDLS3a"
      },
      "source": [
        "**i. Moving BCC images in the Images folder to their own folder**"
      ]
    },
    {
      "cell_type": "code",
      "execution_count": null,
      "metadata": {
        "id": "zdnQJIcKLLDu",
        "outputId": "b149c424-6530-4506-a1d2-4a04695bf928"
      },
      "outputs": [
        {
          "name": "stdout",
          "output_type": "stream",
          "text": [
            "There are 1073 BCC images\n"
          ]
        }
      ],
      "source": [
        "# filter df to get rows where BKL = 1.0\n",
        "BCC_df = df.copy()\n",
        "BCC_df = BCC_df[BCC_df['BCC'] == 1.0]\n",
        "BCC_df = BCC_df[~BCC_df[\"images\"].str.contains(\"downsampled\")]\n",
        "BCC_df['skin_disorder_name'] = BCC_df['images']\n",
        "\n",
        "# drop the unwanted columns and rows from df\n",
        "BCC_df = BCC_df.drop(['MEL', 'NV', 'BCC', 'AK', 'BKL', 'DF', 'VASC', 'SCC', 'UNK'], axis=1)\n",
        "BCC_df = BCC_df[:1073]\n",
        "\n",
        "# Getting the BCC images file names\n",
        "BCC_img = [image_name for image_name in os.listdir('extra_images/extra_Bcc_images') if any(x in image_name for x in BCC_df['images'].tolist())]\n",
        "\n",
        "# Checking if the folder exists and deleting it if it exists\n",
        "if os.path.exists('cleaned_images/Bcc_images'):\n",
        "    # deleting the folder and its contents\n",
        "    shutil.rmtree('cleaned_images/Bcc_images')\n",
        "\n",
        "# Creating a new folder with just BCC images to make cleaning easier\n",
        "os.mkdir('cleaned_images/Bcc_images')\n",
        "for img in BCC_img:\n",
        "    origin = os.path.join('extra_images/extra_Bcc_images/', img)\n",
        "    destination = os.path.join('cleaned_images/Bcc_images/', img)\n",
        "    shutil.copy(origin, destination)\n",
        "\n",
        "# Number of BCC images after moving them to a separate folder\n",
        "BCC_img = [image_name for image_name in os.listdir('cleaned_images/Bcc_images')]\n",
        "print('There are', len(BCC_img),'BCC images')"
      ]
    },
    {
      "cell_type": "markdown",
      "metadata": {
        "id": "JdGpd9J5LgzP"
      },
      "source": [
        "**ii. Removing duplicated images from the folder**"
      ]
    },
    {
      "cell_type": "code",
      "execution_count": null,
      "metadata": {
        "id": "a7ECj4RvLhf6",
        "outputId": "f23c226a-f8f1-48ca-d957-734e379d3567"
      },
      "outputs": [
        {
          "name": "stdout",
          "output_type": "stream",
          "text": [
            "Number of BCC images after removing duplicated images: 1000\n"
          ]
        }
      ],
      "source": [
        "# use the function to drop duplicates from image folder\n",
        "duplicated_images2 = drop_duplicated_images('cleaned_images/Bcc_images/')\n",
        "\n",
        "# number of images after removing duplicates\n",
        "BCC_img = [image_name for image_name in os.listdir('cleaned_images/Bcc_images')]\n",
        "print('Number of BCC images after removing duplicated images:', len(BCC_img))"
      ]
    },
    {
      "cell_type": "markdown",
      "metadata": {
        "id": "F-CHvYr9Ljx4"
      },
      "source": [
        "### **<u>Tinea </u>**\n",
        "\n",
        "**Meaning**<br>\n",
        "Tinea is popularly known as Ringworm (scalp and body). It is a type of fungal infection of the skin, hair, or nails. It is caused by a group of fungi called dermatophytes, which can thrive on the skin's keratin, a tough protein that forms the outer layer of the skin, hair, and nails. It can affect various parts of the body, including the feet (athlete's foot), groin (jock itch), scalp (tinea capitis), beard area (tinea barbae), and body (tinea corporis).<br>\n",
        "Tinea infections are highly contagious and can spread through contact with infected skin or objects. Treatment for tinea typically involves antifungal medications, which can be applied topically or taken orally. It is also important to practice good hygiene and avoid sharing personal items, such as towels and clothing, to prevent the spread of infection. <br>\n",
        "\n",
        "**Causes**<br>\n",
        "Tinea is caused by a group of fungi called dermatophytes. These fungi can thrive on the skin, hair, or nails and cause infections in various parts of the body. The specific type of dermatophyte that causes tinea may vary depending on the affected area. <br>\n",
        "Some of the common causes of tinea include:<br>\n",
        "\n",
        "<ol>\n",
        "  <li>Direct contact with an infected person or animal - Tinea can spread from person to person or from animal to person through direct contact with infected skin or hair.</li>\n",
        "  <li>Sharing personal items - Sharing personal items such as towels, clothing, or hairbrushes can also spread tinea.</li>\n",
        "  <li>Warm and humid environment - Dermatophytes thrive in warm and humid environments, making certain areas of the body more susceptible to tinea infections, such as the feet and groin.</li>\n",
        "  <li>Weakened immune system - People with weakened immune systems, such as those with HIV or undergoing chemotherapy, may be more prone to tinea infections.</li>\n",
        "  <li>Skin injury or irritation - Skin that is injured or irritated, such as from scratching or wearing tight-fitting clothing, may be more susceptible to tinea infections.</li>\n",
        "</ol>\n",
        "Preventing the spread of tinea involves good hygiene practices, such as keeping the skin clean and dry, avoiding sharing personal items, and wearing protective clothing in public areas such as locker rooms and swimming pools.<br>\n",
        "\n",
        "**Symptoms**<br>\n",
        "The symptoms of tinea can vary depending on the affected area of the body. Some common symptoms of tinea infections include:<br>\n",
        "<ol>\n",
        "  <li>Itching - Tinea infections can cause intense itching, which can be worse at night.</li>\n",
        "  <li>Scaling or flaking - Tinea infections can cause the skin to become scaly or flaky.</li>\n",
        "  <li>Blisters - Some types of tinea infections, such as tinea pedis (athlete's foot), can cause small fluid-filled blisters.</li>\n",
        "  <li>Hair loss - Tinea infections of the scalp can cause hair to become brittle and break off, resulting in hair loss.</li>\n",
        "  <li>Thickened or discolored nails - Tinea infections of the nails can cause the nails to become thickened, discolored, and brittle.</li>\n",
        "</ol>\n",
        "\n",
        "**Treatment**<br>\n",
        "The treatment for tinea infections typically involves antifungal medications, which can be applied topically or taken orally. The specific treatment will depend on the location and severity of the infection. Some common treatment options include:<br>\n",
        "<ol>\n",
        "  <li>Topical antifungal medications - These medications are applied directly to the skin or nails and include creams, ointments, sprays, and powders. Topical antifungal medications are often effective for mild to moderate tinea infections.</li>\n",
        "  <li>Oral antifungal medications - These medications are taken by mouth and may be prescribed for more severe or widespread tinea infections. Oral antifungal medications include terbinafine, fluconazole, and itraconazole.</li>\n",
        "  <li>Medicated shampoo - A medicated shampoo may be recommended for tinea infections of the scalp. These shampoos contain antifungal medication and are used to help control the infection and reduce symptoms.</li>\n",
        "  <li>Removal of infected nails - In severe cases of tinea infections of the nails, the infected nail may need to be removed to allow for the application of antifungal medication to the underlying nail bed.</li>\n",
        "</ol>"
      ]
    },
    {
      "cell_type": "markdown",
      "metadata": {
        "id": "YQ5J2fqxLobN"
      },
      "source": [
        "**i. Moving tinea images in the Images folder to their own folder**"
      ]
    },
    {
      "cell_type": "code",
      "execution_count": null,
      "metadata": {
        "id": "Su7pjeSJLwiy",
        "outputId": "95aa0e9d-caf6-40e1-f20d-0beafdde87c5"
      },
      "outputs": [
        {
          "data": {
            "text/plain": [
              "array(['tinea corporis images', 'tinea pedis images'], dtype=object)"
            ]
          },
          "execution_count": 37,
          "metadata": {},
          "output_type": "execute_result"
        }
      ],
      "source": [
        "## Labels representing tinea in DermNet's scrapped data\n",
        "tinea_labels = image_df[image_df['skin_disorder_name'].str.contains('tinea')]['skin_disorder_name'].unique()\n",
        "tinea_labels"
      ]
    },
    {
      "cell_type": "code",
      "execution_count": null,
      "metadata": {
        "id": "AUAj4PYvLymo",
        "outputId": "6eeb2a3d-e4c2-45e1-a3ff-0c78dcec8778"
      },
      "outputs": [
        {
          "name": "stdout",
          "output_type": "stream",
          "text": [
            "There are 1678 tinea images\n"
          ]
        }
      ],
      "source": [
        "# Getting the tinea images file names\n",
        "tinea_img = [image_name for image_name in os.listdir('Images/') if 'tinea' in image_name]\n",
        "\n",
        "# Checking if tinea folder exists and deleting it if it exists\n",
        "if os.path.exists('cleaned_images/tinea/'):\n",
        "    # deleting the folder and its contents\n",
        "    shutil.rmtree('cleaned_images/tinea/')\n",
        "\n",
        "# Creating a new folder with just tinea images to make cleaning easier\n",
        "os.mkdir('cleaned_images/tinea/')\n",
        "for img in tinea_img:\n",
        "    origin = os.path.join('Images/', img)\n",
        "    destination = os.path.join('cleaned_images/tinea/', img)\n",
        "    shutil.copy(origin, destination)\n",
        "\n",
        "for filename in os.listdir('extra_images/extra_tinea_images/'):\n",
        "    src_path = os.path.join('extra_images/extra_tinea_images/', filename)\n",
        "    dst_path = os.path.join('cleaned_images/tinea/', filename)\n",
        "    shutil.copy(src_path, dst_path)\n",
        "\n",
        "# Number of tinea images after moving them to a separate folder\n",
        "tinea_img = [image_name for image_name in os.listdir('cleaned_images/tinea/')]\n",
        "print('There are', len(tinea_img),'tinea images')"
      ]
    },
    {
      "cell_type": "markdown",
      "metadata": {
        "id": "v_hez_sUL1Zn"
      },
      "source": [
        "**ii. Removing duplicated images from the folder**"
      ]
    },
    {
      "cell_type": "code",
      "execution_count": null,
      "metadata": {
        "id": "xE_yEKhbL0vP",
        "outputId": "5aba14d2-6c19-464a-a6b2-9140143e5b52"
      },
      "outputs": [
        {
          "name": "stdout",
          "output_type": "stream",
          "text": [
            "There are 1661 tinea images after removing duplicate images\n"
          ]
        }
      ],
      "source": [
        "# Dropping duplicates\n",
        "duplicated_images = drop_duplicated_images('cleaned_images/tinea/')\n",
        "\n",
        "tinea_img = [image_name for image_name in os.listdir('cleaned_images/tinea/')]\n",
        "print('There are', len(tinea_img),'tinea images after removing duplicate images')"
      ]
    },
    {
      "cell_type": "code",
      "execution_count": null,
      "metadata": {
        "id": "wC_mlKgZL017",
        "outputId": "774b17f5-e5e6-4a43-96cf-9d07516179a5"
      },
      "outputs": [
        {
          "name": "stdout",
          "output_type": "stream",
          "text": [
            "Number of tinea images: 1000\n"
          ]
        }
      ],
      "source": [
        "# select 1000 images\n",
        "reduce_images('cleaned_images/tinea')\n",
        "print('Number of tinea images:', len([image_name for image_name in os.listdir('cleaned_images/tinea_images/')]))"
      ]
    },
    {
      "cell_type": "markdown",
      "metadata": {
        "id": "pK6bYsKVi19w"
      },
      "source": [
        "# **Modelling**"
      ]
    },
    {
      "cell_type": "markdown",
      "metadata": {
        "id": "4OjTnMOhu4et"
      },
      "source": [
        "*   **_import necessary libraries_**"
      ]
    },
    {
      "cell_type": "code",
      "execution_count": null,
      "metadata": {
        "id": "07hKBP_QtkxJ"
      },
      "outputs": [],
      "source": [
        "import os\n",
        "import numpy as np\n",
        "import random\n",
        "import shutil\n",
        "import time\n",
        "import zipfile\n",
        "import PIL\n",
        "from PIL import Image\n",
        "import seaborn as sns\n",
        "import matplotlib.pyplot as plt\n",
        "%matplotlib inline\n",
        "from joblib import dump,load\n",
        "from sklearn.model_selection import train_test_split\n",
        "import tensorflow as tf\n",
        "from tensorflow import keras\n",
        "from tensorflow.keras.preprocessing.image import ImageDataGenerator\n",
        "from tensorflow.keras.models import Sequential\n",
        "from tensorflow.keras.layers import Conv2D, MaxPooling2D, Flatten, Dense, Dropout, BatchNormalization\n",
        "from keras.callbacks import EarlyStopping, ModelCheckpoint\n",
        "from keras import regularizers\n",
        "from keras.models import Model\n",
        "from tensorflow.keras.layers import GlobalAveragePooling2D\n",
        "from tensorflow.keras.optimizers import Adamax\n",
        "from keras.applications import EfficientNetB2\n",
        "from tensorflow.keras.models import Sequential\n",
        "from tensorflow.keras.applications.vgg16 import VGG16\n",
        "from sklearn.metrics import f1_score, recall_score, confusion_matrix, classification_report"
      ]
    },
    {
      "cell_type": "code",
      "execution_count": null,
      "metadata": {
        "colab": {
          "base_uri": "https://localhost:8080/"
        },
        "id": "qKFYMVkRtu8T",
        "outputId": "5f99682a-8b73-4676-8626-9eaf87361a84"
      },
      "outputs": [
        {
          "name": "stdout",
          "output_type": "stream",
          "text": [
            "Mounted at /content/drive\n"
          ]
        }
      ],
      "source": [
        "from google.colab import drive\n",
        "drive.mount('/content/drive', force_remount=True)"
      ]
    },
    {
      "cell_type": "markdown",
      "metadata": {
        "id": "xQyyBejEqaIk"
      },
      "source": [
        "**_Unzipping the data_**"
      ]
    },
    {
      "cell_type": "code",
      "execution_count": null,
      "metadata": {
        "colab": {
          "base_uri": "https://localhost:8080/"
        },
        "id": "GHEUOwBCsXYW",
        "outputId": "eb5a61fa-db9b-4b59-fa59-4f704568fcae"
      },
      "outputs": [
        {
          "name": "stdout",
          "output_type": "stream",
          "text": [
            "Looking in indexes: https://pypi.org/simple, https://us-python.pkg.dev/colab-wheels/public/simple/\n",
            "Collecting patool\n",
            "  Downloading patool-1.12-py2.py3-none-any.whl (77 kB)\n",
            "\u001b[2K     \u001b[90m━━━━━━━━━━━━━━━━━━━━━━━━━━━━━━━━━━━━━━━━\u001b[0m \u001b[32m77.5/77.5 kB\u001b[0m \u001b[31m5.2 MB/s\u001b[0m eta \u001b[36m0:00:00\u001b[0m\n",
            "\u001b[?25hInstalling collected packages: patool\n",
            "Successfully installed patool-1.12\n"
          ]
        }
      ],
      "source": [
        "pip install patool"
      ]
    },
    {
      "cell_type": "code",
      "execution_count": null,
      "metadata": {
        "colab": {
          "base_uri": "https://localhost:8080/"
        },
        "id": "c68IG2UFsa2b",
        "outputId": "2c83deed-cd99-4910-e8a8-4e6f173c04fd"
      },
      "outputs": [
        {
          "name": "stdout",
          "output_type": "stream",
          "text": [
            "patool: Extracting /content/drive/MyDrive/cleaned_images.rar ...\n",
            "patool: running /usr/bin/unrar x -- /content/drive/MyDrive/cleaned_images.rar\n",
            "patool:     with cwd='/content/drive/MyDrive'\n",
            "patool: ... /content/drive/MyDrive/cleaned_images.rar extracted to `/content/drive/MyDrive'.\n"
          ]
        }
      ],
      "source": [
        "import patoolib\n",
        "\n",
        "# Checking if the folder exists and deleting it if it exists\n",
        "if os.path.exists('/content/drive/MyDrive/cleaned_images.rar'):\n",
        "     #deleting the folder and its contents\n",
        "  shutil.rmtree('/content/drive/MyDrive/cleaned_images')\n",
        "\n",
        "# Extract the images from the zip file\n",
        "  patoolib.extract_archive(\"/content/drive/MyDrive/cleaned_images.rar\",\n",
        "                         outdir=\"/content/drive/MyDrive\")\n",
        "\n"
      ]
    },
    {
      "cell_type": "markdown",
      "metadata": {
        "id": "4Tzi8CB8tkxW"
      },
      "source": [
        "**Checking for class imbalance**"
      ]
    },
    {
      "cell_type": "code",
      "execution_count": null,
      "metadata": {
        "colab": {
          "base_uri": "https://localhost:8080/"
        },
        "id": "fYAuKE0_tkxX",
        "outputId": "b897bf17-2e5c-456d-ee4c-81f399edb9aa"
      },
      "outputs": [
        {
          "data": {
            "text/plain": [
              "{'acne_images': 1000,\n",
              " 'Bcc_images': 1000,\n",
              " 'BKL_images': 1000,\n",
              " 'eczema_images': 1000,\n",
              " 'keratosis_images': 1000,\n",
              " 'melanoma_images': 1000,\n",
              " 'psoriasis_images': 1000,\n",
              " 'tinea_images': 1000}"
            ]
          },
          "execution_count": 7,
          "metadata": {},
          "output_type": "execute_result"
        }
      ],
      "source": [
        "# Define the root directory of your dataset\n",
        "root_dir = \"/content/drive/MyDrive/cleaned_images\"\n",
        "\n",
        "subdirs = [\"acne_images\", \"Bcc_images\", \"BKL_images\", \"eczema_images\",\n",
        "           \"keratosis_images\", \"melanoma_images\", \"psoriasis_images\", \"tinea_images\"]\n",
        "\n",
        "{disorder :len(os.listdir(f'{root_dir}/{disorder}')) for disorder in subdirs}\n",
        "\n",
        "# Observation:\n",
        "  # There is no class imbalance. All classes have 1000 images each."
      ]
    },
    {
      "cell_type": "markdown",
      "metadata": {
        "id": "WL6Uf3X5B0OW"
      },
      "source": [
        "**Finding the average resolution for images dataset**"
      ]
    },
    {
      "cell_type": "code",
      "execution_count": null,
      "metadata": {
        "colab": {
          "base_uri": "https://localhost:8080/"
        },
        "id": "Tbndb1lzB087",
        "outputId": "ca98e784-d661-4b87-bae8-3369f4bee880"
      },
      "outputs": [
        {
          "name": "stdout",
          "output_type": "stream",
          "text": [
            "The average height is:500 and the average width is:579\n"
          ]
        }
      ],
      "source": [
        "widths = []\n",
        "heights = []\n",
        "\n",
        "for disorder in subdirs:\n",
        "  for img in os.listdir(f'{root_dir}/{disorder}'):\n",
        "    img_path = os.path.join(f'{root_dir}/{disorder}', img) # Making image file path\n",
        "    im = Image.open(img_path)\n",
        "    widths.append(im.size[0])\n",
        "    heights.append(im.size[1])\n",
        "\n",
        "avg_height = round(sum(heights)/len(heights))\n",
        "avg_width = round(sum(widths)/len(widths))\n",
        "\n",
        "print(f'The average height is:{avg_height} and the average width is:{avg_width}')"
      ]
    },
    {
      "cell_type": "markdown",
      "metadata": {
        "id": "ST7VgHm1tkxa"
      },
      "source": [
        "* **_Train-Validation-Test Split_**"
      ]
    },
    {
      "cell_type": "code",
      "execution_count": null,
      "metadata": {
        "id": "fRXSNgXQtkxb"
      },
      "outputs": [],
      "source": [
        "# Define the root directory of your dataset\n",
        "root_dir = \"/content/drive/MyDrive/cleaned_images\"\n",
        "\n",
        "subdirs = [\"acne_images\", \"Bcc_images\", \"BKL_images\", \"eczema_images\",\n",
        "           \"keratosis_images\", \"melanoma_images\", \"psoriasis_images\", \"tinea_images\"]\n",
        "\n",
        "# Checking if the folder exists and deleting it if it exists\n",
        "for folder_name in ['train', 'validation', 'test']:\n",
        "  if os.path.exists(f'{root_dir}/{folder_name}'):\n",
        "    # deleting the folder and its contents\n",
        "    shutil.rmtree(f'{root_dir}/{folder_name}')\n",
        "\n",
        "# create subdirectories for train, validation and test sets\n",
        "train_dir = os.path.join(root_dir, 'train')\n",
        "validation_dir = os.path.join(root_dir, 'validation')\n",
        "test_dir = os.path.join(root_dir, 'test')\n",
        "\n",
        "os.makedirs(train_dir, exist_ok=True)\n",
        "os.makedirs(validation_dir, exist_ok=True)\n",
        "os.makedirs(test_dir, exist_ok=True)\n",
        "\n",
        "# set the ratio for train, validation and test sets\n",
        "train_ratio = 0.8\n",
        "val_ratio = 0.1\n",
        "test_ratio = 0.1\n",
        "\n",
        "for subdir in subdirs:\n",
        "    subdir_path = os.path.join(root_dir, subdir)\n",
        "    train_subdir = os.path.join(train_dir, subdir)\n",
        "    validation_subdir = os.path.join(validation_dir, subdir)\n",
        "    test_subdir = os.path.join(test_dir, subdir)\n",
        "    os.makedirs(train_subdir, exist_ok=True)\n",
        "    os.makedirs(validation_subdir, exist_ok=True)\n",
        "    os.makedirs(test_subdir, exist_ok=True)\n",
        "\n",
        "    image_names = [name for name in os.listdir(subdir_path)]\n",
        "    image_names = random.sample(image_names, len(image_names))\n",
        "\n",
        "    for i, image_name in enumerate(image_names):\n",
        "            # Defining the source path:\n",
        "            source_path = os.path.join(subdir_path, image_name)\n",
        "\n",
        "            if i < len(image_names) * train_ratio:\n",
        "                  target_path = os.path.join(train_subdir, image_name)\n",
        "                  shutil.copyfile(source_path, target_path)\n",
        "            elif i < len(image_names) * (train_ratio + val_ratio):\n",
        "                  target_path = os.path.join(validation_subdir, image_name)\n",
        "                  shutil.copyfile(source_path, target_path)\n",
        "            else:\n",
        "                  target_path = os.path.join(test_subdir, image_name)\n",
        "                  shutil.copyfile(source_path, target_path)"
      ]
    },
    {
      "cell_type": "code",
      "execution_count": null,
      "metadata": {
        "colab": {
          "base_uri": "https://localhost:8080/"
        },
        "id": "Rnr_pLf7tkxe",
        "outputId": "015e3360-276e-4195-b4ab-154d0eec791c"
      },
      "outputs": [
        {
          "data": {
            "text/plain": [
              "{'acne_images': 800,\n",
              " 'Bcc_images': 800,\n",
              " 'BKL_images': 800,\n",
              " 'eczema_images': 800,\n",
              " 'keratosis_images': 800,\n",
              " 'melanoma_images': 800,\n",
              " 'psoriasis_images': 800,\n",
              " 'tinea_images': 800}"
            ]
          },
          "execution_count": 10,
          "metadata": {},
          "output_type": "execute_result"
        }
      ],
      "source": [
        "# Checking the distribution of the image after the train-validation-test split\n",
        "{disorder :len(os.listdir(f'{root_dir}/train/{disorder}')) for disorder in subdirs}\n",
        "\n",
        "# Observation:\n",
        "  # There is no class imbalance as a result of the train-validation-test split. Each class has 800 images in the training set."
      ]
    },
    {
      "cell_type": "code",
      "execution_count": null,
      "metadata": {
        "colab": {
          "base_uri": "https://localhost:8080/"
        },
        "id": "BHhvZEBMtkxh",
        "outputId": "b5d77341-9b7d-476d-89ed-b8387ecd0cb4"
      },
      "outputs": [
        {
          "data": {
            "text/plain": [
              "6400"
            ]
          },
          "execution_count": 11,
          "metadata": {},
          "output_type": "execute_result"
        }
      ],
      "source": [
        "# No. of images in train set\n",
        "train_images = [images for disease in subdirs \\\n",
        "                     for images in os.listdir(f'{root_dir}/train/{disease}')]\n",
        "len(train_images)"
      ]
    },
    {
      "cell_type": "code",
      "execution_count": null,
      "metadata": {
        "colab": {
          "base_uri": "https://localhost:8080/"
        },
        "id": "EnaXFd-wtkxi",
        "outputId": "2f9a3588-09b4-48de-bc55-a27e2cc95e7d"
      },
      "outputs": [
        {
          "data": {
            "text/plain": [
              "800"
            ]
          },
          "execution_count": 12,
          "metadata": {},
          "output_type": "execute_result"
        }
      ],
      "source": [
        "# No of images in validation set\n",
        "validation_images = [images for disease in subdirs \\\n",
        "                     for images in os.listdir(f'{root_dir}/validation/{disease}')]\n",
        "len(validation_images)"
      ]
    },
    {
      "cell_type": "code",
      "execution_count": null,
      "metadata": {
        "colab": {
          "base_uri": "https://localhost:8080/"
        },
        "id": "cAGV2I57tkxj",
        "outputId": "1ac5b3d0-8219-4a29-c907-4b4cd907ef6c"
      },
      "outputs": [
        {
          "data": {
            "text/plain": [
              "800"
            ]
          },
          "execution_count": 13,
          "metadata": {},
          "output_type": "execute_result"
        }
      ],
      "source": [
        "# No of images in test set\n",
        "test_images = [images for disease in subdirs \\\n",
        "                     for images in os.listdir(f'{root_dir}/test/{disease}')]\n",
        "len(test_images)"
      ]
    },
    {
      "cell_type": "code",
      "execution_count": null,
      "metadata": {
        "id": "dHI4wPTMtkxk"
      },
      "outputs": [],
      "source": [
        "# Define the batch size and number of epochs for training\n",
        "batch_size = 32\n",
        "epochs = 40\n",
        "# Define the input shape of the images (300 was choosen so that we can be able to use EfficientNetB2 model later on)\n",
        "input_shape = (300, 300, 3)"
      ]
    },
    {
      "cell_type": "code",
      "execution_count": null,
      "metadata": {
        "id": "a2zowcqaYf0e"
      },
      "outputs": [],
      "source": [
        "# Function to plot loss and accuracy metrics vs number of epochs with train and validation sets\n",
        "\n",
        "def visualize_training_results(results):\n",
        "    history = results.history\n",
        "\n",
        "    start_epoch = 0\n",
        "    epoch_count = len(history['accuracy']) + start_epoch\n",
        "    epochs = []\n",
        "    for i in range(start_epoch, epoch_count):\n",
        "        epochs.append(i+1)\n",
        "\n",
        "    # Obtaining the epoch with the lowest validation loss\n",
        "    index_loss = np.argmin(history['val_loss'])\n",
        "    val_lowest = history['val_loss'][index_loss]\n",
        "\n",
        "    # Obtaining the epoch with the highest validation accuracy\n",
        "    index_acc = np.argmax(history['val_accuracy'])\n",
        "    acc_highest = history['val_accuracy'][index_acc]\n",
        "\n",
        "    # Best epoch labels:\n",
        "    epoch_loss_label = 'best epoch= '+ str(index_loss+1 +start_epoch)\n",
        "    epoch_acc_label =  'best epoch= '+ str(index_acc + 1+ start_epoch)\n",
        "\n",
        "    # setting the style to be used\n",
        "    plt.style.use('fivethirtyeight')\n",
        "\n",
        "    # create two axis objects side by side\n",
        "    fig, (ax1, ax2) = plt.subplots(ncols=2, figsize=(20,8))\n",
        "\n",
        "    # plot loss on the first axis\n",
        "    ax1.plot(history['val_loss'], color='r', label='Training loss')\n",
        "    ax1.plot(history['loss'], color='g', label='Validation loss')\n",
        "    ax1.scatter(index_loss+1 +start_epoch,val_lowest, c= 'blue', s=100, label=epoch_loss_label)\n",
        "    ax1.legend()\n",
        "    ax1.set_title('Training and Validation Loss')\n",
        "    ax1.set_xlabel('Epochs')\n",
        "    ax1.set_ylabel('Loss')\n",
        "\n",
        "      # plot recall and f1 score metrics on the second axis\n",
        "    ax2.plot(history['val_accuracy'], color='r', label= 'Training Accuracy')\n",
        "    ax2.plot(history['accuracy'], color='g',label= 'Validation Accuracy')\n",
        "    ax2.scatter(index_acc+1 +start_epoch, acc_highest, c='blue', s=100,  label=epoch_acc_label)\n",
        "    ax2.legend()\n",
        "    ax2.set_title('Traing and Validation  Accuracy score')\n",
        "    ax2.set_xlabel('Epochs')\n",
        "    ax2.set_ylabel('Accuracy')\n",
        "\n",
        "    plt.tight_layout()"
      ]
    },
    {
      "cell_type": "markdown",
      "metadata": {
        "id": "6jkezX2xXJiz"
      },
      "source": [
        "**Model 1(Baseline Model):**"
      ]
    },
    {
      "cell_type": "code",
      "execution_count": null,
      "metadata": {
        "id": "fhif01zFtkxk"
      },
      "outputs": [],
      "source": [
        "# Create an instance of ImageDataGenerator for data augmentation\n",
        "train_datagen = ImageDataGenerator(rescale=1./255)\n",
        "\n",
        "val_datagen = ImageDataGenerator(rescale=1./255)\n",
        "\n",
        "test_datagen = ImageDataGenerator(rescale=1./255)\n"
      ]
    },
    {
      "cell_type": "code",
      "execution_count": null,
      "metadata": {
        "colab": {
          "base_uri": "https://localhost:8080/"
        },
        "id": "Sf25DysHtkxl",
        "outputId": "0920322a-43f0-4bdd-df5f-ec3a469f6064"
      },
      "outputs": [
        {
          "name": "stdout",
          "output_type": "stream",
          "text": [
            "Found 6400 images belonging to 8 classes.\n",
            "Found 800 images belonging to 8 classes.\n",
            "Found 800 images belonging to 8 classes.\n"
          ]
        }
      ],
      "source": [
        "# Create generators for loading the train, validation, and test sets\n",
        "train_generator = train_datagen.flow_from_directory(\n",
        "    train_dir,\n",
        "    target_size=input_shape[:2],\n",
        "    batch_size=batch_size,\n",
        "    class_mode='categorical')\n",
        "\n",
        "val_generator = val_datagen.flow_from_directory(\n",
        "    validation_dir,\n",
        "    target_size=input_shape[:2],\n",
        "    batch_size=batch_size,\n",
        "    class_mode='categorical')\n",
        "\n",
        "test_generator = test_datagen.flow_from_directory(\n",
        "    test_dir,\n",
        "    target_size=input_shape[:2],\n",
        "    batch_size=batch_size,\n",
        "    class_mode='categorical')"
      ]
    },
    {
      "cell_type": "code",
      "execution_count": null,
      "metadata": {
        "id": "LbQS6Qibtkxm"
      },
      "outputs": [],
      "source": [
        "# Define CNN model\n",
        "model = Sequential()\n",
        "\n",
        "model.add(Conv2D(64, 3, input_shape=input_shape, activation='relu'))\n",
        "model.add(BatchNormalization())\n",
        "model.add(Conv2D(64, 3, activation='relu'))\n",
        "model.add(BatchNormalization())\n",
        "model.add(MaxPooling2D(pool_size=(2, 2)))\n",
        "model.add(Dropout(0.25))\n",
        "\n",
        "model.add(Conv2D(128, 3, activation='relu'))\n",
        "model.add(BatchNormalization())\n",
        "model.add(Conv2D(128, 3, activation='relu'))\n",
        "model.add(BatchNormalization())\n",
        "model.add(MaxPooling2D(pool_size=(2, 2)))\n",
        "model.add(Dropout(0.25))\n",
        "\n",
        "model.add(Conv2D(256, 3, activation='relu'))\n",
        "model.add(BatchNormalization())\n",
        "model.add(Conv2D(256, 3, activation='relu'))\n",
        "model.add(BatchNormalization())\n",
        "model.add(MaxPooling2D(pool_size=(2, 2)))\n",
        "model.add(Dropout(0.25))\n",
        "\n",
        "model.add(Flatten())\n",
        "\n",
        "model.add(Dense(512, activation='relu'))\n",
        "model.add(BatchNormalization())\n",
        "model.add(Dropout(0.5))\n",
        "model.add(Dense(8, activation='softmax'))"
      ]
    },
    {
      "cell_type": "code",
      "execution_count": null,
      "metadata": {
        "colab": {
          "base_uri": "https://localhost:8080/"
        },
        "id": "EoWhsp_Gtkxn",
        "outputId": "ab34b25b-37fb-4d4b-cb63-b9f81fa5eb65"
      },
      "outputs": [
        {
          "name": "stdout",
          "output_type": "stream",
          "text": [
            "Model: \"sequential\"\n",
            "_________________________________________________________________\n",
            " Layer (type)                Output Shape              Param #   \n",
            "=================================================================\n",
            " conv2d (Conv2D)             (None, 454, 454, 64)      1792      \n",
            "                                                                 \n",
            " batch_normalization (BatchN  (None, 454, 454, 64)     256       \n",
            " ormalization)                                                   \n",
            "                                                                 \n",
            " conv2d_1 (Conv2D)           (None, 452, 452, 64)      36928     \n",
            "                                                                 \n",
            " batch_normalization_1 (Batc  (None, 452, 452, 64)     256       \n",
            " hNormalization)                                                 \n",
            "                                                                 \n",
            " max_pooling2d (MaxPooling2D  (None, 226, 226, 64)     0         \n",
            " )                                                               \n",
            "                                                                 \n",
            " dropout (Dropout)           (None, 226, 226, 64)      0         \n",
            "                                                                 \n",
            " conv2d_2 (Conv2D)           (None, 224, 224, 128)     73856     \n",
            "                                                                 \n",
            " batch_normalization_2 (Batc  (None, 224, 224, 128)    512       \n",
            " hNormalization)                                                 \n",
            "                                                                 \n",
            " conv2d_3 (Conv2D)           (None, 222, 222, 128)     147584    \n",
            "                                                                 \n",
            " batch_normalization_3 (Batc  (None, 222, 222, 128)    512       \n",
            " hNormalization)                                                 \n",
            "                                                                 \n",
            " max_pooling2d_1 (MaxPooling  (None, 111, 111, 128)    0         \n",
            " 2D)                                                             \n",
            "                                                                 \n",
            " dropout_1 (Dropout)         (None, 111, 111, 128)     0         \n",
            "                                                                 \n",
            " conv2d_4 (Conv2D)           (None, 109, 109, 256)     295168    \n",
            "                                                                 \n",
            " batch_normalization_4 (Batc  (None, 109, 109, 256)    1024      \n",
            " hNormalization)                                                 \n",
            "                                                                 \n",
            " conv2d_5 (Conv2D)           (None, 107, 107, 256)     590080    \n",
            "                                                                 \n",
            " batch_normalization_5 (Batc  (None, 107, 107, 256)    1024      \n",
            " hNormalization)                                                 \n",
            "                                                                 \n",
            " max_pooling2d_2 (MaxPooling  (None, 53, 53, 256)      0         \n",
            " 2D)                                                             \n",
            "                                                                 \n",
            " dropout_2 (Dropout)         (None, 53, 53, 256)       0         \n",
            "                                                                 \n",
            " flatten (Flatten)           (None, 719104)            0         \n",
            "                                                                 \n",
            " dense (Dense)               (None, 512)               368181760 \n",
            "                                                                 \n",
            " batch_normalization_6 (Batc  (None, 512)              2048      \n",
            " hNormalization)                                                 \n",
            "                                                                 \n",
            " dropout_3 (Dropout)         (None, 512)               0         \n",
            "                                                                 \n",
            " dense_1 (Dense)             (None, 8)                 4104      \n",
            "                                                                 \n",
            "=================================================================\n",
            "Total params: 369,336,904\n",
            "Trainable params: 369,334,088\n",
            "Non-trainable params: 2,816\n",
            "_________________________________________________________________\n"
          ]
        }
      ],
      "source": [
        "model.compile(optimizer='adam', loss='categorical_crossentropy', metrics=['accuracy'])\n",
        "model.summary()"
      ]
    },
    {
      "cell_type": "code",
      "execution_count": null,
      "metadata": {
        "id": "JymRIcKYtkxo"
      },
      "outputs": [],
      "source": [
        "early_stopping = [EarlyStopping(monitor='val_loss', patience=10),\n",
        "                  ModelCheckpoint(filepath='/content/drive/MyDrive/skin_disorder_classifier1.h5',\n",
        "                                  monitor='val_accuracy', save_best_only=True)\n",
        "                  ]"
      ]
    },
    {
      "cell_type": "code",
      "execution_count": null,
      "metadata": {
        "id": "UL8N6mUtvit7"
      },
      "outputs": [],
      "source": [
        "# Train the model using the train and validation generators\n",
        "history = model.fit(train_generator,\n",
        "          steps_per_epoch=train_generator.samples // train_generator.batch_size,\n",
        "          epochs=epochs,\n",
        "          verbose=0,\n",
        "          validation_data=val_generator,\n",
        "          validation_steps=val_generator.samples // val_generator.batch_size,\n",
        "          callbacks = early_stopping\n",
        "          )"
      ]
    },
    {
      "cell_type": "code",
      "execution_count": null,
      "metadata": {
        "colab": {
          "base_uri": "https://localhost:8080/"
        },
        "id": "cwIKNmuntkxq",
        "outputId": "5ce97dee-29de-40fa-b4ba-0c981a6f174c"
      },
      "outputs": [
        {
          "name": "stdout",
          "output_type": "stream",
          "text": [
            "25/25 [==============================] - 10s 409ms/step - loss: 1.3787 - accuracy: 0.6513\n",
            "Validation accuracy: 0.6512500047683716\n"
          ]
        }
      ],
      "source": [
        "#Test accuracy\n",
        "test_loss, test_acc = model.evaluate(test_generator, verbrose=0)\n",
        "print((f'Test Accuracy: {test_acc:.2f}'))"
      ]
    },
    {
      "cell_type": "code",
      "execution_count": null,
      "metadata": {
        "colab": {
          "base_uri": "https://localhost:8080/",
          "height": 391
        },
        "id": "mkdKg-N4tkxr",
        "outputId": "1f816b22-825f-459d-ee4b-549cf0e04e2a"
      },
      "outputs": [
        {
          "data": {
            "image/png": "[encoded data removed]",
            "text/plain": [
              "<Figure size 1500x500 with 2 Axes>"
            ]
          },
          "metadata": {},
          "output_type": "display_data"
        }
      ],
      "source": [
        "visualize_training_results(history)"
      ]
    },
    {
      "cell_type": "markdown",
      "metadata": {
        "id": "HtC9gOOHXY_C"
      },
      "source": [
        "**Model 2(Data Augmentation):**"
      ]
    },
    {
      "cell_type": "code",
      "execution_count": null,
      "metadata": {
        "id": "iKwIeJ6TXflh"
      },
      "outputs": [],
      "source": [
        "# Create an instance of ImageDataGenerator for data augmentation\n",
        "train_datagen = ImageDataGenerator(\n",
        "    rescale=1./255,\n",
        "    rotation_range=20,\n",
        "    width_shift_range=0.2,\n",
        "    height_shift_range=0.2,\n",
        "    shear_range=0.2,\n",
        "    zoom_range=0.2,\n",
        "    horizontal_flip=True,\n",
        "    vertical_flip=True,\n",
        "    brightness_range=[0.2,1.2],\n",
        "    fill_mode='nearest'\n",
        "    )\n",
        "\n",
        "val_datagen = ImageDataGenerator(rescale=1./255)\n",
        "\n",
        "test_datagen = ImageDataGenerator(rescale=1./255)\n"
      ]
    },
    {
      "cell_type": "code",
      "execution_count": null,
      "metadata": {
        "colab": {
          "base_uri": "https://localhost:8080/"
        },
        "id": "GEBqXXvqXkCm",
        "outputId": "3ee492a7-0732-429e-9811-1601e41ddccf"
      },
      "outputs": [
        {
          "name": "stdout",
          "output_type": "stream",
          "text": [
            "Found 6400 images belonging to 8 classes.\n",
            "Found 800 images belonging to 8 classes.\n",
            "Found 800 images belonging to 8 classes.\n"
          ]
        }
      ],
      "source": [
        "# Create generators for loading the train, validation, and test sets\n",
        "train_generator = train_datagen.flow_from_directory(\n",
        "    train_dir,\n",
        "    target_size=input_shape[:2],\n",
        "    batch_size=batch_size,\n",
        "    class_mode='categorical')\n",
        "\n",
        "val_generator = val_datagen.flow_from_directory(\n",
        "    validation_dir,\n",
        "    target_size=input_shape[:2],\n",
        "    batch_size=batch_size,\n",
        "    class_mode='categorical')\n",
        "\n",
        "test_generator = test_datagen.flow_from_directory(\n",
        "    test_dir,\n",
        "    target_size=input_shape[:2],\n",
        "    batch_size=batch_size,\n",
        "    class_mode='categorical')"
      ]
    },
    {
      "cell_type": "code",
      "execution_count": null,
      "metadata": {
        "colab": {
          "base_uri": "https://localhost:8080/"
        },
        "id": "Sgo2ricJEJZa",
        "outputId": "367db1aa-abbf-4710-e3ef-06a2f6672747"
      },
      "outputs": [
        {
          "name": "stdout",
          "output_type": "stream",
          "text": [
            "Epoch 1/40\n",
            "200/200 [==============================] - 150s 631ms/step - loss: 2.1219 - accuracy: 0.3086 - val_loss: 2.3447 - val_accuracy: 0.1850\n",
            "Epoch 2/40\n",
            "200/200 [==============================] - 114s 569ms/step - loss: 1.5693 - accuracy: 0.4466 - val_loss: 1.7570 - val_accuracy: 0.3125\n",
            "Epoch 3/40\n",
            "200/200 [==============================] - 128s 638ms/step - loss: 1.3168 - accuracy: 0.5223 - val_loss: 1.8337 - val_accuracy: 0.3237\n",
            "Epoch 4/40\n",
            "200/200 [==============================] - 118s 589ms/step - loss: 1.1318 - accuracy: 0.5800 - val_loss: 1.7469 - val_accuracy: 0.3812\n",
            "Epoch 5/40\n",
            "200/200 [==============================] - 120s 597ms/step - loss: 1.0029 - accuracy: 0.6233 - val_loss: 1.2640 - val_accuracy: 0.4975\n",
            "Epoch 6/40\n",
            "200/200 [==============================] - 129s 643ms/step - loss: 0.9256 - accuracy: 0.6509 - val_loss: 1.0318 - val_accuracy: 0.6150\n",
            "Epoch 7/40\n",
            "200/200 [==============================] - 118s 590ms/step - loss: 0.8491 - accuracy: 0.6789 - val_loss: 1.7821 - val_accuracy: 0.4487\n",
            "Epoch 8/40\n",
            "200/200 [==============================] - 122s 610ms/step - loss: 0.7982 - accuracy: 0.6997 - val_loss: 1.4157 - val_accuracy: 0.5362\n",
            "Epoch 9/40\n",
            "200/200 [==============================] - 119s 591ms/step - loss: 0.6891 - accuracy: 0.7461 - val_loss: 1.3421 - val_accuracy: 0.5050\n",
            "Epoch 10/40\n",
            "200/200 [==============================] - 138s 690ms/step - loss: 0.6081 - accuracy: 0.7798 - val_loss: 1.0389 - val_accuracy: 0.6225\n",
            "Epoch 11/40\n",
            "200/200 [==============================] - 120s 598ms/step - loss: 0.5378 - accuracy: 0.8052 - val_loss: 1.4999 - val_accuracy: 0.4938\n",
            "Epoch 12/40\n",
            "200/200 [==============================] - 127s 634ms/step - loss: 0.4788 - accuracy: 0.8261 - val_loss: 0.9044 - val_accuracy: 0.6687\n",
            "Epoch 13/40\n",
            "200/200 [==============================] - 122s 606ms/step - loss: 0.3689 - accuracy: 0.8697 - val_loss: 1.2791 - val_accuracy: 0.6000\n",
            "Epoch 14/40\n",
            "200/200 [==============================] - 122s 610ms/step - loss: 0.3139 - accuracy: 0.8886 - val_loss: 1.3291 - val_accuracy: 0.5825\n",
            "Epoch 15/40\n",
            "200/200 [==============================] - 130s 649ms/step - loss: 0.2586 - accuracy: 0.9092 - val_loss: 1.5281 - val_accuracy: 0.5638\n",
            "Epoch 16/40\n",
            "200/200 [==============================] - 113s 561ms/step - loss: 0.1904 - accuracy: 0.9362 - val_loss: 1.4166 - val_accuracy: 0.5875\n",
            "Epoch 17/40\n",
            "200/200 [==============================] - 118s 586ms/step - loss: 0.1534 - accuracy: 0.9478 - val_loss: 1.3689 - val_accuracy: 0.6162\n",
            "Epoch 18/40\n",
            "200/200 [==============================] - 115s 576ms/step - loss: 0.1407 - accuracy: 0.9533 - val_loss: 2.2255 - val_accuracy: 0.4613\n",
            "Epoch 19/40\n",
            "200/200 [==============================] - 115s 571ms/step - loss: 0.1256 - accuracy: 0.9567 - val_loss: 1.2890 - val_accuracy: 0.6475\n",
            "Epoch 20/40\n",
            "200/200 [==============================] - 108s 541ms/step - loss: 0.1076 - accuracy: 0.9650 - val_loss: 2.5038 - val_accuracy: 0.5138\n",
            "Epoch 21/40\n",
            "200/200 [==============================] - 116s 578ms/step - loss: 0.0934 - accuracy: 0.9695 - val_loss: 1.3180 - val_accuracy: 0.6725\n",
            "Epoch 22/40\n",
            "200/200 [==============================] - 110s 546ms/step - loss: 0.0879 - accuracy: 0.9716 - val_loss: 1.6237 - val_accuracy: 0.5987\n"
          ]
        }
      ],
      "source": [
        "# Define CNN model\n",
        "model = Sequential()\n",
        "\n",
        "model.add(Conv2D(32, 3, input_shape=input_shape, activation='relu'))\n",
        "model.add(BatchNormalization())\n",
        "model.add(Conv2D(32, 3, activation='relu'))\n",
        "model.add(BatchNormalization())\n",
        "model.add(MaxPooling2D(pool_size=(2, 2)))\n",
        "model.add(Dropout(0.25))\n",
        "\n",
        "model.add(Conv2D(64, 3, activation='relu'))\n",
        "model.add(BatchNormalization())\n",
        "model.add(Conv2D(64, 3, activation='relu'))\n",
        "model.add(BatchNormalization())\n",
        "model.add(MaxPooling2D(pool_size=(2, 2)))\n",
        "model.add(Dropout(0.25))\n",
        "\n",
        "model.add(Conv2D(128, 3, activation='relu'))\n",
        "model.add(BatchNormalization())\n",
        "model.add(Conv2D(128, 3, activation='relu'))\n",
        "model.add(BatchNormalization())\n",
        "model.add(MaxPooling2D(pool_size=(2, 2)))\n",
        "model.add(Dropout(0.25))\n",
        "\n",
        "model.add(Flatten())\n",
        "\n",
        "model.add(Dense(256, activation='relu'))\n",
        "model.add(BatchNormalization())\n",
        "model.add(Dropout(0.5))\n",
        "model.add(Dense(8, activation='softmax'))\n",
        "\n",
        "# compile the model\n",
        "model.compile(optimizer='adam', loss='categorical_crossentropy', metrics=['accuracy'])\n",
        "\n",
        "# early_stopping to prevent overfitting\n",
        "early_stopping = [EarlyStopping(monitor='val_loss', patience=10),\n",
        "                  ModelCheckpoint(filepath='/content/drive/MyDrive/skin_disorder_classifier2.h5',\n",
        "                                  monitor='val_accuracy', save_best_only=True)\n",
        "                  ]\n",
        "# Train the model using the train and validation generators\n",
        "history = model.fit(train_generator,\n",
        "          steps_per_epoch=train_generator.samples // train_generator.batch_size,\n",
        "          epochs=epochs,\n",
        "          validation_data=val_generator,\n",
        "          validation_steps=val_generator.samples // val_generator.batch_size,\n",
        "          callbacks = early_stopping\n",
        "          )"
      ]
    },
    {
      "cell_type": "code",
      "execution_count": null,
      "metadata": {
        "colab": {
          "base_uri": "https://localhost:8080/"
        },
        "id": "ac4SGoAwUvmW",
        "outputId": "92c31d2d-9043-4788-a5f3-64841740f7e2"
      },
      "outputs": [
        {
          "name": "stdout",
          "output_type": "stream",
          "text": [
            "25/25 [==============================] - 11s 427ms/step - loss: 1.6772 - accuracy: 0.6025\n",
            "Test accuracy: 0.6025000214576721\n"
          ]
        }
      ],
      "source": [
        "#test accuracy\n",
        "test_loss, test_acc = model.evaluate(test_generator)\n",
        "print('Test accuracy:', test_acc)"
      ]
    },
    {
      "cell_type": "code",
      "execution_count": null,
      "metadata": {
        "colab": {
          "base_uri": "https://localhost:8080/",
          "height": 426
        },
        "id": "_txDF3MJU_FO",
        "outputId": "afbcc899-930e-4814-d66e-c4fbd0187286"
      },
      "outputs": [
        {
          "data": {
            "image/png": "[encoded data removed]",
            "text/plain": [
              "<Figure size 2000x800 with 2 Axes>"
            ]
          },
          "metadata": {},
          "output_type": "display_data"
        }
      ],
      "source": [
        "# visualize loss and accuracy\n",
        "visualize_training_results(history)"
      ]
    },
    {
      "cell_type": "markdown",
      "metadata": {
        "id": "tlAVNBp9tkxr"
      },
      "source": [
        "**Model 3(EfficientNetB2):**"
      ]
    },
    {
      "cell_type": "code",
      "execution_count": null,
      "metadata": {
        "id": "TvKoM4svH5xY"
      },
      "outputs": [],
      "source": [
        "# TypeError: Unable to serialize [2.0896919 2.1128857 2.1081853] to JSON. Unrecognized type <class 'tensorflow.python.framework.ops.EagerTensor'>.\n",
        "# Due to the error above, we need to install tensor flow version 2.9.2 for the EfficientNet model to be able to run"
      ]
    },
    {
      "cell_type": "code",
      "execution_count": null,
      "metadata": {
        "colab": {
          "base_uri": "https://localhost:8080/"
        },
        "id": "qFXZhdGNH63l",
        "outputId": "1b720de9-4461-4d78-fd79-dba8da18c708"
      },
      "outputs": [
        {
          "name": "stdout",
          "output_type": "stream",
          "text": [
            "2.9.2\n"
          ]
        }
      ],
      "source": [
        "# pip uninstall tensorflow\n",
        "# pip install tensorflow==2.9.2\n",
        "print(tf. __version__)"
      ]
    },
    {
      "cell_type": "code",
      "execution_count": null,
      "metadata": {
        "id": "DIyA_qngW59_"
      },
      "outputs": [],
      "source": [
        "# Create an instance of ImageDataGenerator for data augmentation\n",
        "train_datagen = ImageDataGenerator(\n",
        "    rescale=1./255,\n",
        "    rotation_range=20,\n",
        "    width_shift_range=0.2,\n",
        "    height_shift_range=0.2,\n",
        "    zoom_range=0.2,\n",
        "    horizontal_flip=True,\n",
        "    brightness_range = [0.2, 1.2]\n",
        "    )\n",
        "\n",
        "val_datagen = ImageDataGenerator(rescale=1./255)\n",
        "\n",
        "test_datagen = ImageDataGenerator(rescale=1./255)\n"
      ]
    },
    {
      "cell_type": "code",
      "execution_count": null,
      "metadata": {
        "colab": {
          "base_uri": "https://localhost:8080/"
        },
        "id": "f_lGT2k-W7On",
        "outputId": "78c52868-1ac7-4587-b8fb-845b57855475"
      },
      "outputs": [
        {
          "name": "stdout",
          "output_type": "stream",
          "text": [
            "Found 6400 images belonging to 8 classes.\n",
            "Found 800 images belonging to 8 classes.\n",
            "Found 800 images belonging to 8 classes.\n"
          ]
        }
      ],
      "source": [
        "# Create generators for loading the train, validation, and test sets\n",
        "train_generator = train_datagen.flow_from_directory(\n",
        "    train_dir,\n",
        "    target_size=input_shape[:2],\n",
        "    batch_size=batch_size,\n",
        "    class_mode='categorical')\n",
        "\n",
        "val_generator = val_datagen.flow_from_directory(\n",
        "    validation_dir,\n",
        "    target_size=input_shape[:2],\n",
        "    batch_size=batch_size,\n",
        "    class_mode='categorical')\n",
        "\n",
        "test_generator = test_datagen.flow_from_directory(\n",
        "    test_dir,\n",
        "    target_size=input_shape[:2],\n",
        "    batch_size=batch_size,\n",
        "    class_mode='categorical')"
      ]
    },
    {
      "cell_type": "markdown",
      "metadata": {
        "id": "PrLRGXGto0K_"
      },
      "source": [
        "**_Define function to print text in RGB foreground and background colors_**"
      ]
    },
    {
      "cell_type": "markdown",
      "metadata": {
        "id": "gKtZ_0-csWx2"
      },
      "source": [
        "* The function is used to print text in different colors\n",
        "* It takes three arguments: the text message, foreground color, and background color\n",
        "* The foreground and background colors are specified as tuples of three numbers representing the RGB values\n",
        "* The function uses escape sequences to set the text color and background color before printing the message\n",
        "* The function then resets the print color to default after printing the message"
      ]
    },
    {
      "cell_type": "code",
      "execution_count": null,
      "metadata": {
        "id": "qPXq0efoAo8X"
      },
      "outputs": [],
      "source": [
        "def print_in_color(txt_msg,fore_tupple,back_tupple,):\n",
        "    #prints the text_msg in the foreground color specified by fore_tupple with the background specified by back_tupple\n",
        "    #text_msg is the text, fore_tupple is foregroud color tupple (r,g,b), back_tupple is background tupple (r,g,b)\n",
        "    rf,gf,bf=fore_tupple\n",
        "    rb,gb,bb=back_tupple\n",
        "    msg='{0}' + txt_msg\n",
        "    mat='\\33[38;2;' + str(rf) +';' + str(gf) + ';' + str(bf) + ';48;2;' + str(rb) + ';' +str(gb) + ';' + str(bb) +'m'\n",
        "    print(msg .format(mat), flush=True)\n",
        "    print('\\33[0m', flush=True) # returns default print color to back to black\n",
        "    return"
      ]
    },
    {
      "cell_type": "markdown",
      "metadata": {
        "id": "xrLoWWF3o5xG"
      },
      "source": [
        "**_Create a subclass of callbacks to control learning rate and print training results for each epoch_**"
      ]
    },
    {
      "cell_type": "markdown",
      "metadata": {
        "id": "08uo_UkErq_F"
      },
      "source": [
        "The custom callback function used in the model combines early stopping, reduce learning rate on plateau, and model checkpoint, and is designed to improve training efficiency and prevent overfitting. In addition,the function provides a summary of model's performance at each epoch, allows for early stopping, and always returns the best-performing model. The function also takes several customizable parameters to suit individual needs."
      ]
    },
    {
      "cell_type": "code",
      "execution_count": null,
      "metadata": {
        "id": "DKVW3wZFAWjr"
      },
      "outputs": [],
      "source": [
        "class LRA(keras.callbacks.Callback):\n",
        "    def __init__(self,model, base_model, patience,stop_patience, threshold, factor, dwell, batches, initial_epoch,epochs, ask_epoch):\n",
        "        super(LRA, self).__init__()\n",
        "        self.model=model\n",
        "        self.base_model=base_model\n",
        "        self.patience=patience # specifies how many epochs without improvement before learning rate is adjusted\n",
        "        self.stop_patience=stop_patience # specifies how many times to adjust lr without improvement to stop training\n",
        "        self.threshold=threshold # specifies training accuracy threshold when lr will be adjusted based on validation loss\n",
        "        self.factor=factor # factor by which to reduce the learning rate\n",
        "        self.dwell=dwell\n",
        "        self.batches=batches # number of training batch to runn per epoch\n",
        "        self.initial_epoch=initial_epoch\n",
        "        self.epochs=epochs\n",
        "        self.ask_epoch=ask_epoch\n",
        "        self.ask_epoch_initial=ask_epoch # save this value to restore if restarting training\n",
        "        # callback variables\n",
        "        self.count=0 # how many times lr has been reduced without improvement\n",
        "        self.stop_count=0\n",
        "        self.best_epoch=1   # epoch with the lowest loss\n",
        "        self.initial_lr=float(tf.keras.backend.get_value(model.optimizer.lr)) # get the initiallearning rate and save it\n",
        "        self.highest_tracc=0.0 # set highest training accuracy to 0 initially\n",
        "        self.lowest_vloss=np.inf # set lowest validation loss to infinity initially\n",
        "        self.best_weights=self.model.get_weights() # set best weights to model's initial weights\n",
        "        self.initial_weights=self.model.get_weights()   # save initial weights if they have to get restored\n",
        "\n",
        "    def on_train_begin(self, logs=None):\n",
        "        if self.base_model != None:\n",
        "            status=base_model.trainable\n",
        "            if status:\n",
        "                msg=' initializing callback starting train with base_model trainable'\n",
        "            else:\n",
        "                msg='initializing callback starting training with base_model not trainable'\n",
        "        else:\n",
        "            msg='initialing callback and starting training'\n",
        "        print_in_color (msg, (244, 252, 3), (55,65,80))\n",
        "        msg='{0:^8s}{1:^10s}{2:^9s}{3:^9s}{4:^9s}{5:^9s}{6:^9s}{7:^10s}{8:10s}{9:^8s}'.format('Epoch', 'Loss', 'Accuracy',\n",
        "                                                                                              'V_loss','V_acc', 'LR', 'Next LR', 'Monitor','% Improv', 'Duration')\n",
        "        print_in_color(msg, (244,252,3), (55,65,80))\n",
        "        self.start_time= time.time()\n",
        "\n",
        "    def on_train_end(self, logs=None):\n",
        "        stop_time=time.time()\n",
        "        tr_duration= stop_time- self.start_time\n",
        "        hours = tr_duration // 3600\n",
        "        minutes = (tr_duration - (hours * 3600)) // 60\n",
        "        seconds = tr_duration - ((hours * 3600) + (minutes * 60))\n",
        "\n",
        "        self.model.set_weights(self.best_weights) # set the weights of the model to the best weights\n",
        "        msg=f'Training is completed - model is set with weights from epoch {self.best_epoch} '\n",
        "        print_in_color(msg, (0,255,0), (55,65,80))\n",
        "        msg = f'training elapsed time was {str(hours)} hours, {minutes:4.1f} minutes, {seconds:4.2f} seconds)'\n",
        "        print_in_color(msg, (0,255,0), (55,65,80))\n",
        "\n",
        "    def on_train_batch_end(self, batch, logs=None):\n",
        "        acc=logs.get('accuracy')* 100  # get training accuracy\n",
        "        loss=logs.get('loss')\n",
        "        msg='{0:20s}processing batch {1:4s} of {2:5s} accuracy= {3:8.3f}  loss: {4:8.5f}'.format(' ', str(batch), str(self.batches), acc, loss)\n",
        "        print(msg, '\\r', end='') # prints over on the same line to show running batch count\n",
        "\n",
        "    def on_epoch_begin(self,epoch, logs=None):\n",
        "        self.now= time.time()\n",
        "\n",
        "    def on_epoch_end(self, epoch, logs=None):  # method runs on the end of each epoch\n",
        "        later=time.time()\n",
        "        duration=later-self.now\n",
        "        lr=float(tf.keras.backend.get_value(self.model.optimizer.lr)) # get the current learning rate\n",
        "        current_lr=lr\n",
        "        v_loss=logs.get('val_loss')  # get the validation loss for this epoch\n",
        "        acc=logs.get('accuracy')  # get training accuracy\n",
        "        v_acc=logs.get('val_accuracy')\n",
        "        loss=logs.get('loss')\n",
        "        if acc < self.threshold: # if training accuracy is below threshold adjust lr based on training accuracy\n",
        "            monitor='accuracy'\n",
        "            if epoch ==0:\n",
        "                pimprov=0.0\n",
        "            else:\n",
        "                pimprov= (acc-self.highest_tracc )*100/self.highest_tracc\n",
        "            if acc>self.highest_tracc: # training accuracy improved in the epoch\n",
        "                self.highest_tracc=acc # set new highest training accuracy\n",
        "                self.best_weights=self.model.get_weights() # traing accuracy improved so save the weights\n",
        "                self.stop_count=0 # set stop counter to 0\n",
        "                if v_loss<self.lowest_vloss:\n",
        "                    self.lowest_vloss=v_loss\n",
        "                color= (0,255,0)\n",
        "                self.best_epoch=epoch + 1  # set the value of best epoch for this epoch\n",
        "            else:\n",
        "                # training accuracy did not improve check if this has happened for patience number of epochs\n",
        "                # if so adjust learning rate\n",
        "                if self.count>=self.patience -1: # lr should be adjusted\n",
        "                    color=(245, 170, 66)\n",
        "                    lr= lr* self.factor # adjust the learning by factor\n",
        "                    tf.keras.backend.set_value(self.model.optimizer.lr, lr) # set the learning rate in the optimizer\n",
        "                    self.count=0 # reset the count to 0\n",
        "                    self.stop_count=self.stop_count + 1 # count the number of consecutive lr adjustments\n",
        "                    self.count=0 # reset counter\n",
        "                    if self.dwell:\n",
        "                        self.model.set_weights(self.best_weights) # return to better point in N space\n",
        "                    else:\n",
        "                        if v_loss<self.lowest_vloss:\n",
        "                            self.lowest_vloss=v_loss\n",
        "                else:\n",
        "                    self.count=self.count +1 # increment patience counter\n",
        "        else: # training accuracy is above threshold so adjust learning rate based on validation loss\n",
        "            monitor='val_loss'\n",
        "            if epoch ==0:\n",
        "                pimprov=0.0\n",
        "            else:\n",
        "                pimprov= (self.lowest_vloss- v_loss )*100/self.lowest_vloss\n",
        "            if v_loss< self.lowest_vloss: # check if the validation loss improved\n",
        "                self.lowest_vloss=v_loss # replace lowest validation loss with new validation loss\n",
        "                self.best_weights=self.model.get_weights() # validation loss improved so save the weights\n",
        "                self.count=0 # reset count since validation loss improved\n",
        "                self.stop_count=0\n",
        "                color=(0,255,0)\n",
        "                self.best_epoch=epoch + 1 # set the value of the best epoch to this epoch\n",
        "            else: # validation loss did not improve\n",
        "                if self.count>=self.patience-1: # need to adjust lr\n",
        "                    color=(245, 170, 66)\n",
        "                    lr=lr * self.factor # adjust the learning rate\n",
        "                    self.stop_count=self.stop_count + 1 # increment stop counter because lr was adjusted\n",
        "                    self.count=0 # reset counter\n",
        "                    tf.keras.backend.set_value(self.model.optimizer.lr, lr) # set the learning rate in the optimizer\n",
        "                    if self.dwell:\n",
        "                        self.model.set_weights(self.best_weights) # return to better point in N space\n",
        "                else:\n",
        "                    self.count =self.count +1 # increment the patience counter\n",
        "                if acc>self.highest_tracc:\n",
        "                    self.highest_tracc= acc\n",
        "        msg=f'{str(epoch+1):^3s}/{str(self.epochs):4s} {loss:^9.3f}{acc*100:^9.3f}{v_loss:^9.5f}{v_acc*100:^9.3f}{current_lr:^9.5f}{lr:^9.5f}{monitor:^11s}{pimprov:^10.2f}{duration:^8.2f}'\n",
        "        print_in_color (msg,color, (55,65,80))\n",
        "        if self.stop_count> self.stop_patience - 1: # check if learning rate has been adjusted stop_count times with no improvement\n",
        "            msg=f' training has been halted at epoch {epoch + 1} after {self.stop_patience} adjustments of learning rate with no improvement'\n",
        "            print_in_color(msg, (0,255,255), (55,65,80))\n",
        "            self.model.stop_training = True # stop training\n",
        "        else:\n",
        "            if self.ask_epoch !=None:\n",
        "                if epoch + 1 >= self.ask_epoch:\n",
        "                    if base_model.trainable:\n",
        "                        msg='enter H to halt  or an integer for number of epochs to run then ask again'\n",
        "                    else:\n",
        "                        msg='enter H to halt ,F to fine tune model, or an integer for number of epochs to run then ask again'\n",
        "                    print_in_color(msg, (0,255,255), (55,65,80))\n",
        "                    ans=input('')\n",
        "                    if ans=='H' or ans=='h':\n",
        "                        msg=f'training has been halted at epoch {epoch + 1} due to user input'\n",
        "                        print_in_color(msg, (0,255,255), (55,65,80))\n",
        "                        self.model.stop_training = True # stop training\n",
        "                    elif ans == 'F' or ans=='f':\n",
        "                        if base_model.trainable:\n",
        "                            msg='base_model is already set as trainable'\n",
        "                        else:\n",
        "                            msg='setting base_model as trainable for fine tuning of model'\n",
        "                            self.base_model.trainable=True\n",
        "                        print_in_color(msg, (0, 255,255), (55,65,80))\n",
        "                        msg='{0:^8s}{1:^10s}{2:^9s}{3:^9s}{4:^9s}{5:^9s}{6:^9s}{7:^10s}{8:^8s}'.format('Epoch', 'Loss', 'Accuracy',\n",
        "                                                                                              'V_loss','V_acc', 'LR', 'Next LR', 'Monitor','% Improv', 'Duration')\n",
        "                        print_in_color(msg, (244,252,3), (55,65,80))\n",
        "                        self.count=0\n",
        "                        self.stop_count=0\n",
        "                        self.ask_epoch = epoch + 1 + self.ask_epoch_initial\n",
        "\n",
        "                    else:\n",
        "                        ans=int(ans)\n",
        "                        self.ask_epoch +=ans\n",
        "                        msg=f' training will continue until epoch ' + str(self.ask_epoch)\n",
        "                        print_in_color(msg, (0, 255,255), (55,65,80))\n",
        "                        msg='{0:^8s}{1:^10s}{2:^9s}{3:^9s}{4:^9s}{5:^9s}{6:^9s}{7:^10s}{8:10s}{9:^8s}'.format('Epoch', 'Loss', 'Accuracy',\n",
        "                                                                                              'V_loss','V_acc', 'LR', 'Next LR', 'Monitor','% Improv', 'Duration')\n",
        "                        print_in_color(msg, (244,252,3), (55,65,80))"
      ]
    },
    {
      "cell_type": "code",
      "execution_count": null,
      "metadata": {
        "id": "4ohzPsmRtkxu"
      },
      "outputs": [],
      "source": [
        "# Create an instance of the EfficientNetB2 model\n",
        "base_model = EfficientNetB2(include_top=False, weights=\"imagenet\", input_shape=input_shape, pooling = 'max')\n",
        "\n",
        "# Added a normalzation\n",
        "x = base_model.output\n",
        "x = BatchNormalization(axis=-1, momentum=0.99, epsilon=0.001 )(x)\n",
        "\n",
        "# Added a fully connected layer with 256 hidden units, regularizers and ReLU activation\n",
        "x = Dense(256, kernel_regularizer = regularizers.l2(l = 0.016),activity_regularizer=regularizers.l1(0.006),\n",
        "                bias_regularizer=regularizers.l1(0.006) ,activation='relu')(x)\n",
        "\n",
        "# Added a dropout layer to prevent overfitting\n",
        "x = Dropout(0.45, seed=123)(x)\n",
        "\n",
        "# The final softmax layer with 8 output units\n",
        "output = Dense(8, activation='softmax')(x)\n",
        "\n",
        "# created the model with the base model and the fully connected layers\n",
        "model_EfficientNetB2 = Model(inputs=base_model.input, outputs=output)\n",
        "\n",
        "# compile the model with the Adam optimizer\n",
        "model_EfficientNetB2.compile(optimizer=Adamax(learning_rate=.001), loss='categorical_crossentropy', metrics=['accuracy'])"
      ]
    },
    {
      "cell_type": "code",
      "execution_count": null,
      "metadata": {
        "id": "RtfZt4NgDP1W"
      },
      "outputs": [],
      "source": [
        "epochs =40\n",
        "patience= 1 # number of epochs to wait to adjust learning_rate if monitored value does not improve\n",
        "stop_patience =3 # number of epochs to wait before stopping training if monitored value does not improve\n",
        "threshold=.9 # if train accuracy is < threshhold adjust monitor accuracy, else monitor validation loss\n",
        "factor=.5 # factor to reduce learning_rate by\n",
        "dwell=True # if True and monitored metric does not improve on current epoch set  modelweights back to weights of previous epoch\n",
        "freeze=False # if true free weights of  the base model\n",
        "ask_epoch=20 # number of epochs to run before asking if you want to halt training\n",
        "batches= train_generator.samples // train_generator.batch_size\n",
        "callbacks=[LRA(model= model_EfficientNetB2, base_model= base_model, patience=patience, stop_patience=stop_patience, threshold=threshold,\n",
        "                   factor=factor, dwell=dwell, batches=batches,initial_epoch=0,epochs=epochs, ask_epoch=ask_epoch )]\n"
      ]
    },
    {
      "cell_type": "code",
      "execution_count": null,
      "metadata": {
        "colab": {
          "base_uri": "https://localhost:8080/"
        },
        "id": "PWv4pobkKcuH",
        "outputId": "3a36ac2e-a1ab-4125-ec24-4a6ffa9b769b"
      },
      "outputs": [
        {
          "name": "stdout",
          "output_type": "stream",
          "text": [
            "\u001b[38;2;244;252;3;48;2;55;65;80m initializing callback starting train with base_model trainable\n",
            "\u001b[0m\n",
            "\u001b[38;2;244;252;3;48;2;55;65;80m Epoch     Loss   Accuracy  V_loss    V_acc     LR     Next LR  Monitor  % Improv  Duration\n",
            "\u001b[0m\n",
            "\u001b[38;2;0;255;0;48;2;55;65;80m 1 /40     7.839   47.891   7.57303  14.125   0.00100  0.00100  accuracy     0.00    306.79 \n",
            "\u001b[0m\n",
            "\u001b[38;2;0;255;0;48;2;55;65;80m 2 /40     5.221   66.953   5.72205  10.000   0.00100  0.00100  accuracy    39.80    289.82 \n",
            "\u001b[0m\n",
            "\u001b[38;2;0;255;0;48;2;55;65;80m 3 /40     3.757   73.609   4.58298  16.625   0.00100  0.00100  accuracy     9.94    288.07 \n",
            "\u001b[0m\n",
            "\u001b[38;2;0;255;0;48;2;55;65;80m 4 /40     2.701   78.203   3.81709  14.000   0.00100  0.00100  accuracy     6.24    291.09 \n",
            "\u001b[0m\n",
            "\u001b[38;2;0;255;0;48;2;55;65;80m 5 /40     1.980   79.844   3.20592  13.625   0.00100  0.00100  accuracy     2.10    294.23 \n",
            "\u001b[0m\n",
            "\u001b[38;2;0;255;0;48;2;55;65;80m 6 /40     1.455   83.547   2.90506  19.375   0.00100  0.00100  accuracy     4.64    294.39 \n",
            "\u001b[0m\n",
            "\u001b[38;2;0;255;0;48;2;55;65;80m 7 /40     1.122   85.094   2.78819  14.625   0.00100  0.00100  accuracy     1.85    292.15 \n",
            "\u001b[0m\n",
            "\u001b[38;2;0;255;0;48;2;55;65;80m 8 /40     0.918   86.266   2.58439  15.250   0.00100  0.00100  accuracy     1.38    289.27 \n",
            "\u001b[0m\n",
            "\u001b[38;2;0;255;0;48;2;55;65;80m 9 /40     0.751   88.484   2.61003  16.625   0.00100  0.00100  accuracy     2.57    287.55 \n",
            "\u001b[0m\n",
            "\u001b[38;2;0;255;0;48;2;55;65;80m10 /40     0.676   88.969   2.38315  16.000   0.00100  0.00100  accuracy     0.55    287.26 \n",
            "\u001b[0m\n",
            "\u001b[38;2;245;170;66;48;2;55;65;80m11 /40     0.588   90.906   2.53483  19.500   0.00100  0.00050  val_loss    -6.36    288.02 \n",
            "\u001b[0m\n",
            "\u001b[38;2;0;255;0;48;2;55;65;80m12 /40     0.546   92.500   1.78358  49.000   0.00050  0.00050  val_loss    25.16    287.68 \n",
            "\u001b[0m\n",
            "\u001b[38;2;245;170;66;48;2;55;65;80m13 /40     0.480   93.969   2.58807  12.875   0.00050  0.00025  val_loss    -45.11   292.45 \n",
            "\u001b[0m\n",
            "\u001b[38;2;0;255;0;48;2;55;65;80m14 /40     0.477   94.156   1.32609  63.125   0.00025  0.00025  val_loss    25.65    289.46 \n",
            "\u001b[0m\n",
            "\u001b[38;2;245;170;66;48;2;55;65;80m15 /40     0.438   95.187   2.42649  27.875   0.00025  0.00013  val_loss    -82.98   292.52 \n",
            "\u001b[0m\n",
            "\u001b[38;2;0;255;0;48;2;55;65;80m16 /40     0.428   95.609   0.76593  83.375   0.00013  0.00013  val_loss    42.24    287.83 \n",
            "\u001b[0m\n",
            "\u001b[38;2;245;170;66;48;2;55;65;80m17 /40     0.423   95.703   0.87560  79.125   0.00013  0.00006  val_loss    -14.32   289.18 \n",
            "\u001b[0m\n",
            "\u001b[38;2;0;255;0;48;2;55;65;80m18 /40     0.418   96.078   0.71247  84.625   0.00006  0.00006  val_loss     6.98    287.64 \n",
            "\u001b[0m\n",
            "\u001b[38;2;245;170;66;48;2;55;65;80m19 /40     0.406   96.109   0.90248  79.500   0.00006  0.00003  val_loss    -26.67   288.15 \n",
            "\u001b[0m\n",
            "\u001b[38;2;0;255;0;48;2;55;65;80m20 /40     0.403   96.531   0.59648  88.250   0.00003  0.00003  val_loss    16.28    285.60 \n",
            "\u001b[0m\n",
            "\u001b[38;2;0;255;255;48;2;55;65;80menter H to halt  or an integer for number of epochs to run then ask again\n",
            "\u001b[0m\n",
            "\u001b[38;2;0;255;255;48;2;55;65;80m training will continue until epoch 22\n",
            "\u001b[0m\n",
            "\u001b[38;2;244;252;3;48;2;55;65;80m Epoch     Loss   Accuracy  V_loss    V_acc     LR     Next LR  Monitor  % Improv  Duration\n",
            "\u001b[0m\n",
            "\u001b[38;2;245;170;66;48;2;55;65;80m21 /40     0.394   96.594   0.61094  88.875   0.00003  0.00002  val_loss    -2.42    286.88 \n",
            "\u001b[0m\n",
            "\u001b[38;2;245;170;66;48;2;55;65;80m22 /40     0.401   96.438   0.61018  88.625   0.00002  0.00001  val_loss    -2.30    288.43 \n",
            "\u001b[0m\n",
            "\u001b[38;2;0;255;255;48;2;55;65;80menter H to halt  or an integer for number of epochs to run then ask again\n",
            "\u001b[0m\n",
            "H\n",
            "\u001b[38;2;0;255;255;48;2;55;65;80mtraining has been halted at epoch 22 due to user input\n",
            "\u001b[0m\n",
            "\u001b[38;2;0;255;0;48;2;55;65;80mTraining is completed - model is set with weights from epoch 20 \n",
            "\u001b[0m\n",
            "\u001b[38;2;0;255;0;48;2;55;65;80mtraining elapsed time was 1.0 hours, 51.0 minutes, 26.05 seconds)\n",
            "\u001b[0m\n"
          ]
        }
      ],
      "source": [
        "history_EfficientNetB2 = model_EfficientNetB2.fit(train_generator,\n",
        "                                 epochs=epochs,\n",
        "                                 verbose=0,\n",
        "                                 callbacks=callbacks,\n",
        "                                validation_data=val_generator,\n",
        "                                 shuffle=False,\n",
        "                                 initial_epoch=0)"
      ]
    },
    {
      "cell_type": "code",
      "execution_count": null,
      "metadata": {
        "id": "_QWIC8AgZ5m0"
      },
      "outputs": [],
      "source": [
        "# Saving model to drive\n",
        "model_EfficientNetB2.save(\"/content/drive/MyDrive/skin_disorder_classifier_EfficientNetB2.h5\")"
      ]
    },
    {
      "cell_type": "code",
      "execution_count": null,
      "metadata": {
        "colab": {
          "base_uri": "https://localhost:8080/"
        },
        "id": "oV62D6YJH7Yv",
        "outputId": "e59d3b8e-9569-453f-d4a4-2948ece1073c"
      },
      "outputs": [
        {
          "name": "stdout",
          "output_type": "stream",
          "text": [
            "Test Accuracy: 0.88\n"
          ]
        }
      ],
      "source": [
        "# Evaluate the model\n",
        "test_loss, test_acc = model_EfficientNetB2.evaluate(test_generator, verbose=0)\n",
        "print((f'Test Accuracy: {test_acc:.2f}'))"
      ]
    },
    {
      "cell_type": "code",
      "execution_count": null,
      "metadata": {
        "colab": {
          "base_uri": "https://localhost:8080/",
          "height": 264
        },
        "id": "5wxlrGTzfVA6",
        "outputId": "e06bc0db-258a-421d-f11e-f0b54104dd1d"
      },
      "outputs": [
        {
          "data": {
            "image/png": "[encoded data removed]",
            "text/plain": [
              "<Figure size 2000x800 with 2 Axes>"
            ]
          },
          "metadata": {},
          "output_type": "display_data"
        }
      ],
      "source": [
        "# Visualizing the model's performance\n",
        "visualize_training_results(history_EfficientNetB2)"
      ]
    },
    {
      "cell_type": "markdown",
      "metadata": {
        "id": "4ZcI-Z4rtkxz"
      },
      "source": [
        "**Model 4(VGG16)**"
      ]
    },
    {
      "cell_type": "code",
      "execution_count": null,
      "metadata": {
        "id": "egeLbtat4b-q"
      },
      "outputs": [],
      "source": [
        "# Create an instance of ImageDataGenerator for data augmentation\n",
        "train_datagen = ImageDataGenerator(\n",
        "    rescale=1./255,\n",
        "    rotation_range=20,\n",
        "    width_shift_range=0.2,\n",
        "    height_shift_range=0.2,\n",
        "    zoom_range=0.2,\n",
        "    horizontal_flip=True,\n",
        "    vertical_flip=True,\n",
        "    brightness_range=[0.2,1.2]\n",
        "    )\n",
        "\n",
        "val_datagen = ImageDataGenerator(rescale=1./255)\n",
        "\n",
        "test_datagen = ImageDataGenerator(rescale=1./255)\n"
      ]
    },
    {
      "cell_type": "code",
      "execution_count": null,
      "metadata": {
        "colab": {
          "base_uri": "https://localhost:8080/"
        },
        "id": "s8UtcF274dJE",
        "outputId": "fef73f36-bab0-4472-e239-853e1226f0f3"
      },
      "outputs": [
        {
          "name": "stdout",
          "output_type": "stream",
          "text": [
            "Found 6400 images belonging to 8 classes.\n",
            "Found 800 images belonging to 8 classes.\n",
            "Found 800 images belonging to 8 classes.\n"
          ]
        }
      ],
      "source": [
        "# Create generators for loading the train, validation, and test sets\n",
        "train_generator = train_datagen.flow_from_directory(\n",
        "    train_dir,\n",
        "    target_size=input_shape[:2],\n",
        "    batch_size=batch_size,\n",
        "    class_mode='categorical')\n",
        "\n",
        "val_generator = val_datagen.flow_from_directory(\n",
        "    validation_dir,\n",
        "    target_size=input_shape[:2],\n",
        "    batch_size=batch_size,\n",
        "    class_mode='categorical')\n",
        "\n",
        "test_generator = test_datagen.flow_from_directory(\n",
        "    test_dir,\n",
        "    target_size=input_shape[:2],\n",
        "    batch_size=batch_size,\n",
        "    class_mode='categorical')"
      ]
    },
    {
      "cell_type": "code",
      "execution_count": null,
      "metadata": {
        "colab": {
          "base_uri": "https://localhost:8080/"
        },
        "id": "AdIbT7Udtkxz",
        "outputId": "995edd8c-e5b8-4143-a27e-b98a54fd8f65"
      },
      "outputs": [
        {
          "name": "stdout",
          "output_type": "stream",
          "text": [
            "Downloading data from https://storage.googleapis.com/tensorflow/keras-applications/vgg16/vgg16_weights_tf_dim_ordering_tf_kernels_notop.h5\n",
            "58889256/58889256 [==============================] - 3s 0us/step\n"
          ]
        }
      ],
      "source": [
        "# Load the pre-trained VGG16 model (excluding the top layers)\n",
        "vgg16_model = VGG16(weights='imagenet', include_top=False, input_shape=input_shape)"
      ]
    },
    {
      "cell_type": "code",
      "execution_count": null,
      "metadata": {
        "id": "53VXBsfYtkxz"
      },
      "outputs": [],
      "source": [
        "# Freeze the weights of the pre-trained layers\n",
        "for layer in vgg16_model.layers:\n",
        "    layer.trainable = False"
      ]
    },
    {
      "cell_type": "code",
      "execution_count": null,
      "metadata": {
        "id": "yKZVuu9atkx0"
      },
      "outputs": [],
      "source": [
        "# Add a new classifier on top of the pre-trained layers\n",
        "model = Sequential()\n",
        "model.add(vgg16_model)\n",
        "model.add(Flatten())\n",
        "model.add(Dense(512, activation='relu'))\n",
        "model.add(Dropout(0.5))\n",
        "model.add(Dense(8, activation='softmax'))"
      ]
    },
    {
      "cell_type": "code",
      "execution_count": null,
      "metadata": {
        "id": "4bEUe947tkx0"
      },
      "outputs": [],
      "source": [
        "# Compile the model with categorical crossentropy loss and Adam optimizer\n",
        "model.compile(loss='categorical_crossentropy',\n",
        "              optimizer='adam',\n",
        "              metrics=['accuracy'])\n"
      ]
    },
    {
      "cell_type": "code",
      "execution_count": null,
      "metadata": {
        "colab": {
          "base_uri": "https://localhost:8080/"
        },
        "id": "0jgndeVUtkx0",
        "outputId": "00836766-8914-4b9f-ed65-07fc1bb79815",
        "scrolled": false
      },
      "outputs": [
        {
          "name": "stdout",
          "output_type": "stream",
          "text": [
            "Epoch 1/20\n",
            "200/200 [==============================] - 243s 1s/step - loss: 1.9324 - accuracy: 0.2095 - val_loss: 1.6353 - val_accuracy: 0.3075\n",
            "Epoch 2/20\n",
            "200/200 [==============================] - 233s 1s/step - loss: 1.7840 - accuracy: 0.2317 - val_loss: 1.5845 - val_accuracy: 0.3375\n",
            "Epoch 3/20\n",
            "200/200 [==============================] - 230s 1s/step - loss: 1.7656 - accuracy: 0.2222 - val_loss: 1.5319 - val_accuracy: 0.3438\n",
            "Epoch 4/20\n",
            "200/200 [==============================] - 230s 1s/step - loss: 1.7476 - accuracy: 0.2366 - val_loss: 1.5089 - val_accuracy: 0.3288\n",
            "Epoch 5/20\n",
            "200/200 [==============================] - 229s 1s/step - loss: 1.7260 - accuracy: 0.2495 - val_loss: 1.5235 - val_accuracy: 0.3388\n",
            "Epoch 6/20\n",
            "200/200 [==============================] - 229s 1s/step - loss: 1.7412 - accuracy: 0.2336 - val_loss: 1.4956 - val_accuracy: 0.2937\n",
            "Epoch 7/20\n",
            "200/200 [==============================] - 232s 1s/step - loss: 1.7309 - accuracy: 0.2334 - val_loss: 1.4627 - val_accuracy: 0.3288\n",
            "Epoch 8/20\n",
            "200/200 [==============================] - 235s 1s/step - loss: 1.7324 - accuracy: 0.2353 - val_loss: 1.4642 - val_accuracy: 0.3262\n",
            "Epoch 9/20\n",
            "200/200 [==============================] - 231s 1s/step - loss: 1.7147 - accuracy: 0.2488 - val_loss: 1.4914 - val_accuracy: 0.3175\n",
            "Epoch 10/20\n",
            "200/200 [==============================] - 227s 1s/step - loss: 1.7223 - accuracy: 0.2281 - val_loss: 1.4447 - val_accuracy: 0.3963\n",
            "Epoch 11/20\n",
            "200/200 [==============================] - 229s 1s/step - loss: 1.6882 - accuracy: 0.2522 - val_loss: 1.4127 - val_accuracy: 0.4087\n",
            "Epoch 12/20\n",
            "200/200 [==============================] - 229s 1s/step - loss: 1.6815 - accuracy: 0.2627 - val_loss: 1.4752 - val_accuracy: 0.3388\n",
            "Epoch 13/20\n",
            "200/200 [==============================] - 228s 1s/step - loss: 1.6910 - accuracy: 0.2595 - val_loss: 1.4462 - val_accuracy: 0.3400\n",
            "Epoch 14/20\n",
            "200/200 [==============================] - 231s 1s/step - loss: 1.6969 - accuracy: 0.2567 - val_loss: 1.4540 - val_accuracy: 0.3388\n",
            "Epoch 15/20\n",
            "200/200 [==============================] - 229s 1s/step - loss: 1.6794 - accuracy: 0.2534 - val_loss: 1.4378 - val_accuracy: 0.3400\n",
            "Epoch 16/20\n",
            "200/200 [==============================] - 228s 1s/step - loss: 1.6650 - accuracy: 0.2708 - val_loss: 1.3914 - val_accuracy: 0.4400\n",
            "Epoch 17/20\n",
            "200/200 [==============================] - 240s 1s/step - loss: 1.6920 - accuracy: 0.2655 - val_loss: 1.4231 - val_accuracy: 0.3787\n",
            "Epoch 18/20\n",
            "200/200 [==============================] - 228s 1s/step - loss: 1.6863 - accuracy: 0.2659 - val_loss: 1.4155 - val_accuracy: 0.3550\n",
            "Epoch 19/20\n",
            "200/200 [==============================] - 230s 1s/step - loss: 1.6762 - accuracy: 0.2678 - val_loss: 1.4033 - val_accuracy: 0.3613\n",
            "Epoch 20/20\n",
            "200/200 [==============================] - 229s 1s/step - loss: 1.6647 - accuracy: 0.2733 - val_loss: 1.4166 - val_accuracy: 0.3338\n"
          ]
        }
      ],
      "source": [
        "# Train the model using the train and validation generators\n",
        "history = model.fit(train_generator,\n",
        "          steps_per_epoch=len(train_generator),\n",
        "          epochs=20,\n",
        "          validation_data=val_generator,\n",
        "          validation_steps=len(val_generator))\n"
      ]
    },
    {
      "cell_type": "code",
      "execution_count": null,
      "metadata": {
        "id": "m3PhMEWxtkx0",
        "outputId": "85b5ec83-654c-446c-b448-03db793e1aab"
      },
      "outputs": [
        {
          "name": "stdout",
          "output_type": "stream",
          "text": [
            "67/67 [==============================] - 849s 13s/step - loss: 1.1702 - accuracy: 0.5155\n",
            "Test accuracy: 0.5154929757118225\n"
          ]
        }
      ],
      "source": [
        "# Evaluate the model on the test set\n",
        "test_loss, test_acc = model.evaluate(test_generator, steps=len(test_generator))\n",
        "print(\"Test accuracy:\", test_acc)"
      ]
    },
    {
      "cell_type": "code",
      "execution_count": null,
      "metadata": {
        "colab": {
          "base_uri": "https://localhost:8080/"
        },
        "id": "NaFB6dDVtkx1",
        "outputId": "34ad0156-2aa7-4920-e150-3e0733b7462a"
      },
      "outputs": [
        {
          "data": {
            "text/plain": [
              "['/content/drive/MyDrive/skin_disease_classifier_VGG16']"
            ]
          },
          "execution_count": 63,
          "metadata": {},
          "output_type": "execute_result"
        }
      ],
      "source": [
        "# Saving model to drive\n",
        "model_EfficientNetB2.save(\"/content/drive/MyDrive/skin_disease_classifier_VGG16.h5\")"
      ]
    },
    {
      "cell_type": "code",
      "execution_count": null,
      "metadata": {
        "colab": {
          "base_uri": "https://localhost:8080/",
          "height": 391
        },
        "id": "pQhKroy4ZcnN",
        "outputId": "b82da814-03aa-473c-b9c3-8dd7da5451b1"
      },
      "outputs": [
        {
          "data": {
            "image/png": "[encoded data removed]",
            "text/plain": [
              "<Figure size 1500x500 with 2 Axes>"
            ]
          },
          "metadata": {},
          "output_type": "display_data"
        }
      ],
      "source": [
        "visualize_training_results(history)"
      ]
    },
    {
      "cell_type": "markdown",
      "metadata": {
        "id": "iORWa9UWIsgc"
      },
      "source": [
        "# **Evaluation**\n",
        "Evaluation of the skin disease classifier model was based on its accuracy in predicting skin diseases from images. The model achieved an accuracy of 88% on the test set, indicating its potential for accurate diagnosis of skin diseases. However, the evaluation also revealed some limitations of the model, including its sensitivity to image quality and potential biases in the training dataset. These limitations suggest the need for further improvement and validation of the model before it can be applied in clinical settings. Overall, the evaluation highlights both the strengths and weaknesses of the model and provides insights for future development and refinement."
      ]
    },
    {
      "cell_type": "markdown",
      "metadata": {
        "id": "lFD0crKDIsT9"
      },
      "source": [
        "# **Conclusion**\n",
        "\n",
        "The skin disease classifier model has shown promising results in accurately identifying various skin diseases with an 88% accuracy rate on the test set. The integration of this model into a website will provides an accessible and efficient platform for users to upload photos of their skin diseases and receive accurate diagnoses. However, the model is not without its limitations, including the potential for bias in the training dataset and variability in image quality uploaded by users. Future work includes expanding the dataset and improving the model's ability to identify other skin conditions, as well as conducting real-world validation studies and integrating the model with telemedicine technologies. Despite these limitations, the model represents a significant step forward in the field of dermatology and has the potential to improve access to healthcare for individuals with skin conditions."
      ]
    },
    {
      "cell_type": "markdown",
      "metadata": {
        "id": "NLB-vYp-I8cW"
      },
      "source": [
        "> ## **Limitations**\n",
        "\n",
        "* **Limited dataset:** The model was trained on a limited dataset, which may not be representative of all skin disease and skin types.\n",
        "* **Lack of diversity:** Skin diseases can present differently in different people based on factors such as age, skin type, and ethnicity.Potential bias in the dataset used for training the model, which may lead to inaccurate predictions for certain demographics or skin types.\n",
        "* **Dependence on image quality:** The model's perfomance may vary depending on the quality of images uploaded by users. Images that are blurry, poorly lit, or not centered properly may not be accurately classified by the model.\n",
        "* **Human error:** The accuracy of the model may also be affected by human error, such as mislabeling or misdiagnosing the skin disease images in the dataset.\n"
      ]
    },
    {
      "cell_type": "markdown",
      "metadata": {
        "id": "-Pg1oqh9JAsD"
      },
      "source": [
        "> ## **Recommendations**\n",
        "\n",
        "* Collect more diverse and high-quality  skin disease images from different populations and sources to improve the model's ability to generalize to new data.\n",
        "* Incorporate expert knowledge  from dermatologists or other medical professionals to verify and help label and diagnose the skin disease images in the dataset.\n",
        "\n",
        "* Incorporate additional metrics such as precision, recall, and F1 score to evaluate the model's performance.\n",
        "\n",
        "* Investigate the potential of incorporating additional data sources such as patient history and clinical data to improve the accuracy of the diagnosis."
      ]
    },
    {
      "cell_type": "markdown",
      "metadata": {
        "id": "OZmMb4qhI8Eb"
      },
      "source": [
        "> ## **Future Work**\n",
        "\n",
        "* **Real-world validation:** Real-world validation studies can be conducted to evaluate the model's performance in clinical settings and to assess its impact on patient outcomes.\n",
        "* **Expand dataset:** Expanding the dataset with more diverse skin types, demographics, and skin conditions can improve the model's generalizability and reduce potential biases.\n",
        "* **Expand to other skin conditions:** The model can be further developed to identify a broader range of skin conditions beyond the current scope of skin diseases, such as wounds. This would increase the versatility and usefulness of the model for both patients and healthcare professionals.\n",
        "* **Explainable AI:** Implementing explainable AI techniques can help clinicians and patients understand the model's decision-making process, increasing trust and transparency in the model's predictions.\n",
        "* **Integrate model with telemedicine technologies:** The model can also be integrated with telemedicine technologies to enable remote diagnosis and treatment of skin diseases."
      ]
    }
  ],
  "metadata": {
    "accelerator": "TPU",
    "colab": {
      "provenance": []
    },
    "gpuClass": "standard",
    "kernelspec": {
      "display_name": "Python 3 (ipykernel)",
      "language": "python",
      "name": "python3"
    },
    "language_info": {
      "codemirror_mode": {
        "name": "ipython",
        "version": 3
      },
      "file_extension": ".py",
      "mimetype": "text/x-python",
      "name": "python",
      "nbconvert_exporter": "python",
      "pygments_lexer": "ipython3",
      "version": "3.9.12"
    },
    "vscode": {
      "interpreter": {
        "hash": "2f155fbeb9494e5ce992090b8427abe3542dae7719d8ea0d05cb0b78608edd18"
      }
    }
  },
  "nbformat": 4,
  "nbformat_minor": 0
}